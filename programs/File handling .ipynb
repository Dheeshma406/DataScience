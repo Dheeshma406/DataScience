{
 "cells": [
  {
   "cell_type": "code",
   "execution_count": null,
   "id": "39278d0e",
   "metadata": {},
   "outputs": [
    {
     "data": {
      "text/plain": [
       "'This is a file handling concept It can write ,read and append'"
      ]
     },
     "execution_count": 8,
     "metadata": {},
     "output_type": "execute_result"
    }
   ],
   "source": [
    "file=open(\"demofile.txt\",\"w\")\n",
    "file.write(\"This is a file handling concept\")\n",
    "file.close()\n",
    "\n",
    "file=open(\"demofile.txt\",\"a\")\n",
    "file.write(\" It can write ,read and append\")\n",
    "\n",
    "file=open(\"demofile.txt\",\"r\")\n",
    "file.read()\n",
    "file.close()\n",
    "\n",
    "\n"
   ]
  }
 ],
 "metadata": {
  "kernelspec": {
   "display_name": "Python 3",
   "language": "python",
   "name": "python3"
  },
  "language_info": {
   "codemirror_mode": {
    "name": "ipython",
    "version": 3
   },
   "file_extension": ".py",
   "mimetype": "text/x-python",
   "name": "python",
   "nbconvert_exporter": "python",
   "pygments_lexer": "ipython3",
   "version": "3.13.5"
  }
 },
 "nbformat": 4,
 "nbformat_minor": 5
}
