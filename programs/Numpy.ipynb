{
 "cells": [
  {
   "cell_type": "code",
   "execution_count": 4,
   "id": "6199c8d3",
   "metadata": {},
   "outputs": [
    {
     "name": "stdout",
     "output_type": "stream",
     "text": [
      "[1 2 3 4 5]\n"
     ]
    }
   ],
   "source": [
    "import numpy as np\n",
    "\n",
    "array=np.array([1,2,3,4,5])\n",
    "print(array)\n",
    "\n"
   ]
  },
  {
   "cell_type": "code",
   "execution_count": 8,
   "id": "b1d4c7c6",
   "metadata": {},
   "outputs": [
    {
     "name": "stdout",
     "output_type": "stream",
     "text": [
      "[1 2]\n",
      "<class 'numpy.ndarray'>\n"
     ]
    },
    {
     "data": {
      "text/plain": [
       "(2,)"
      ]
     },
     "execution_count": 8,
     "metadata": {},
     "output_type": "execute_result"
    }
   ],
   "source": [
    "import numpy as np\n",
    "\n",
    "array=np.array([1,2])\n",
    "print(array)\n",
    "print(type(array))\n",
    "array.shape\n"
   ]
  },
  {
   "cell_type": "code",
   "execution_count": 21,
   "id": "63ca7b26",
   "metadata": {},
   "outputs": [
    {
     "name": "stdout",
     "output_type": "stream",
     "text": [
      "[[1 2 3]\n",
      " [4 5 6]]\n"
     ]
    },
    {
     "data": {
      "text/plain": [
       "(2, 3)"
      ]
     },
     "execution_count": 21,
     "metadata": {},
     "output_type": "execute_result"
    }
   ],
   "source": [
    "import numpy as np\n",
    "new_array=np.array([[1,2,3],\n",
    "                   [4,5,6]])\n",
    "print(new_array)\n",
    "new_array.shape\n"
   ]
  },
  {
   "cell_type": "code",
   "execution_count": 26,
   "id": "bd5950b3",
   "metadata": {},
   "outputs": [
    {
     "name": "stdout",
     "output_type": "stream",
     "text": [
      "[[1 2 3]\n",
      " [4 5 6]\n",
      " [6 7 8]]\n"
     ]
    },
    {
     "data": {
      "text/plain": [
       "(3, 3)"
      ]
     },
     "execution_count": 26,
     "metadata": {},
     "output_type": "execute_result"
    }
   ],
   "source": [
    "num_array=np.array([[1,2,3],[4,5,6],\n",
    "                   [6,7,8]])\n",
    "print(num_array)\n",
    "num_array.shape"
   ]
  },
  {
   "cell_type": "code",
   "execution_count": 23,
   "id": "21413c5a",
   "metadata": {},
   "outputs": [
    {
     "name": "stdout",
     "output_type": "stream",
     "text": [
      "[[ 1  2  3]\n",
      " [ 4  5  6]\n",
      " [ 7  8  9]\n",
      " [10 11 12]]\n"
     ]
    },
    {
     "data": {
      "text/plain": [
       "(4, 3)"
      ]
     },
     "execution_count": 23,
     "metadata": {},
     "output_type": "execute_result"
    }
   ],
   "source": [
    "arrays=np.array([[1,2,3],[4,5,6],\n",
    "                 [7,8,9],[10,11,12]])\n",
    "print(arrays)\n",
    "arrays.shape"
   ]
  },
  {
   "cell_type": "code",
   "execution_count": 24,
   "id": "63113bf8",
   "metadata": {},
   "outputs": [
    {
     "name": "stdout",
     "output_type": "stream",
     "text": [
      "[[ 1  2  3]\n",
      " [ 4  5  6]\n",
      " [ 7  8  9]\n",
      " [10 11 12]\n",
      " [13 14 15]\n",
      " [16 17 18]]\n"
     ]
    },
    {
     "data": {
      "text/plain": [
       "(6, 3)"
      ]
     },
     "execution_count": 24,
     "metadata": {},
     "output_type": "execute_result"
    }
   ],
   "source": [
    "arr=np.array([[1,2,3],[4,5,6],[7,8,9],\n",
    "              [10,11,12],[13,14,15],[16,17,18]])\n",
    "print(arr)\n",
    "arr.shape"
   ]
  },
  {
   "cell_type": "code",
   "execution_count": null,
   "id": "6990ea59",
   "metadata": {},
   "outputs": [
    {
     "name": "stdout",
     "output_type": "stream",
     "text": [
      "Size of each element of list in bytes: 136\n"
     ]
    }
   ],
   "source": [
    "import numpy as np\n",
    "import sys\n",
    "\n",
    "s=[0,1,2,3,4,5,6,7,8,9]\n",
    "print(\"Size of each element of list in bytes:\",sys.getsizeof(s))\n",
    "\n"
   ]
  },
  {
   "cell_type": "code",
   "execution_count": 30,
   "id": "55169889",
   "metadata": {},
   "outputs": [
    {
     "name": "stdout",
     "output_type": "stream",
     "text": [
      "size of each element of the numpy array in bytes: 8\n",
      "size of the whole numpy array in bytes: 80\n"
     ]
    }
   ],
   "source": [
    "# declaring a numpy array of 10 elements\n",
    "\n",
    "D=np.array([0,1,2,3,4,5,6,7,8,9])\n",
    "print(\"size of each element of the numpy array in bytes:\",D.itemsize)\n",
    "print(\"size of the whole numpy array in bytes:\",D.size*D.itemsize)"
   ]
  },
  {
   "cell_type": "code",
   "execution_count": 2,
   "id": "8145b2d2",
   "metadata": {},
   "outputs": [
    {
     "name": "stdout",
     "output_type": "stream",
     "text": [
      "Time taken by Lists to perform multiplication: 0.018550395965576172 seconds\n",
      "Time taken by Numpy Arrays to perform multiplication: 0.0014019012451171875 seconds\n"
     ]
    }
   ],
   "source": [
    "import numpy as np\n",
    "import time\n",
    "# size of arrays and lists\n",
    "size=100000\n",
    "\n",
    "list1=range(size)\n",
    "list2=range(size)\n",
    "\n",
    "# declaring arrays\n",
    "array1=np.arange(size)\n",
    "array2=np.arange(size)\n",
    "\n",
    "initialTime=time.time()\n",
    "resultantList=[(a*b) for a,b in zip(list1,list2)]\n",
    "\n",
    "print(\"Time taken by Lists to perform multiplication:\",(time.time()-initialTime),\"seconds\")\n",
    "initialTime=time.time()\n",
    "\n",
    "resultantArray=array1*array2\n",
    "print(\"Time taken by Numpy Arrays to perform multiplication:\",(time.time()-initialTime),\"seconds\")\n"
   ]
  },
  {
   "cell_type": "code",
   "execution_count": 35,
   "id": "35ceb31d",
   "metadata": {},
   "outputs": [
    {
     "name": "stdout",
     "output_type": "stream",
     "text": [
      "[1 2 3 4 5]\n",
      "(5,)\n"
     ]
    }
   ],
   "source": [
    "ndarr=np.array([1,2,3,4,5])\n",
    "print(arr)\n",
    "print(ndarr.shape)"
   ]
  },
  {
   "cell_type": "code",
   "execution_count": null,
   "id": "09625b25",
   "metadata": {},
   "outputs": [
    {
     "name": "stdout",
     "output_type": "stream",
     "text": [
      "2\n",
      "4\n"
     ]
    }
   ],
   "source": [
    "# .ndim - Which dimension\n",
    "\n",
    "new_arr=np.array([[1,2],\n",
    "                 [3,4]])\n",
    "print(new_arr.ndim)\n",
    "\n",
    "# .size - Total elements\n",
    "\n",
    "print(new_arr.size)\n",
    "\n"
   ]
  },
  {
   "cell_type": "code",
   "execution_count": 49,
   "id": "790e9c2b",
   "metadata": {},
   "outputs": [
    {
     "name": "stdout",
     "output_type": "stream",
     "text": [
      "[[ 1  2 10]\n",
      " [ 3  4 14]\n",
      " [ 5  6 12]\n",
      " [ 7  8  9]]\n",
      "int64\n"
     ]
    }
   ],
   "source": [
    "a=np.array([[1,2,10],[3,4,14],\n",
    "           [5,6,12],[7,8,9]])\n",
    "print(a)\n",
    "print(a.dtype)"
   ]
  },
  {
   "cell_type": "code",
   "execution_count": 48,
   "id": "5fb474a9",
   "metadata": {},
   "outputs": [
    {
     "name": "stdout",
     "output_type": "stream",
     "text": [
      "[[1. 2. 3. 4. 5.]]\n"
     ]
    }
   ],
   "source": [
    "b=np.array([[1,2,3,4,5]])\n",
    "arrytype=b.astype('float64')\n",
    "print(arrytype)\n"
   ]
  },
  {
   "cell_type": "code",
   "execution_count": null,
   "id": "0de630bf",
   "metadata": {},
   "outputs": [
    {
     "name": "stdout",
     "output_type": "stream",
     "text": [
      "[1 2 3 4 5]\n"
     ]
    }
   ],
   "source": [
    "# .asarray - Conversion in array\n",
    "li=[1,2,3,4,5]\n",
    "new_list=(np.asarray(li))\n",
    "print(new_list)"
   ]
  },
  {
   "cell_type": "code",
   "execution_count": 58,
   "id": "06cd6088",
   "metadata": {},
   "outputs": [
    {
     "name": "stdout",
     "output_type": "stream",
     "text": [
      "[1 2 3 4]\n"
     ]
    }
   ],
   "source": [
    "tup=(1,2,3,4)\n",
    "new_tup=(np.asarray(tup))\n",
    "print(new_tup)"
   ]
  },
  {
   "cell_type": "code",
   "execution_count": 59,
   "id": "c712880f",
   "metadata": {},
   "outputs": [
    {
     "name": "stdout",
     "output_type": "stream",
     "text": [
      "[[1 2]\n",
      " [3 4]]\n"
     ]
    }
   ],
   "source": [
    "lis=([1,2],[3,4])\n",
    "new_lis=(np.asarray(lis))\n",
    "print(new_lis)"
   ]
  },
  {
   "cell_type": "code",
   "execution_count": 62,
   "id": "65a2cae3",
   "metadata": {},
   "outputs": [
    {
     "name": "stdout",
     "output_type": "stream",
     "text": [
      "[[ 1  2 12]\n",
      " [ 3  4 14]\n",
      " [ 5  6 16]\n",
      " [ 7  8  9]]\n"
     ]
    }
   ],
   "source": [
    "tup=(1,2,12),(3,4,14),(5,6,16),(7,8,9)\n",
    "new_tu=(np.asarray(tup))\n",
    "print(new_tu)"
   ]
  },
  {
   "cell_type": "code",
   "execution_count": null,
   "id": "af838bfa",
   "metadata": {},
   "outputs": [
    {
     "name": "stdout",
     "output_type": "stream",
     "text": [
      "[0 1 2 3 4 5 6 7 8 9]\n",
      "[3 4 5 6]\n"
     ]
    }
   ],
   "source": [
    "# Slicing\n",
    "\n",
    "num=np.arange(10)\n",
    "print(num)\n",
    "print(num[3:7])\n",
    "\n",
    "\n"
   ]
  },
  {
   "cell_type": "code",
   "execution_count": null,
   "id": "34cb6e01",
   "metadata": {},
   "outputs": [
    {
     "name": "stdout",
     "output_type": "stream",
     "text": [
      "[0.38995115 0.1688458  0.09602496 0.87209559 0.42094603 0.65452709\n",
      " 0.82740943 0.73868993 0.39754326 0.68197376]\n"
     ]
    }
   ],
   "source": [
    "import numpy as np\n",
    "num=np.random.random(10)\n",
    "print(num)"
   ]
  },
  {
   "cell_type": "code",
   "execution_count": 1,
   "id": "527b6bd4",
   "metadata": {},
   "outputs": [
    {
     "name": "stdout",
     "output_type": "stream",
     "text": [
      "[[7, 8, 9]]\n",
      "[[1, 2, 3], [7, 8, 9]]\n",
      "[]\n"
     ]
    }
   ],
   "source": [
    "a=[[1,2,3],[4,5,6],[7,8,9]]\n",
    "   \n",
    "print(a[2:5])\n",
    "print(a[::2])\n",
    "print(a[0:2:-1])\n",
    "\n",
    "\n"
   ]
  },
  {
   "cell_type": "code",
   "execution_count": 1,
   "id": "c17a9a25",
   "metadata": {},
   "outputs": [
    {
     "name": "stdout",
     "output_type": "stream",
     "text": [
      "[[0. 0. 0.]\n",
      " [0. 0. 0.]\n",
      " [0. 0. 0.]]\n"
     ]
    }
   ],
   "source": [
    "import numpy as np\n",
    "arr=np.zeros((3,3))\n",
    "print(arr)"
   ]
  },
  {
   "cell_type": "code",
   "execution_count": 2,
   "id": "4d64e282",
   "metadata": {},
   "outputs": [
    {
     "name": "stdout",
     "output_type": "stream",
     "text": [
      "[[1. 1. 1. 1.]\n",
      " [1. 1. 1. 1.]\n",
      " [1. 1. 1. 1.]]\n"
     ]
    }
   ],
   "source": [
    "a=np.ones((3,4))\n",
    "print(a)"
   ]
  },
  {
   "cell_type": "code",
   "execution_count": 12,
   "id": "008e1831",
   "metadata": {},
   "outputs": [
    {
     "name": "stdout",
     "output_type": "stream",
     "text": [
      "[[20 20 20]\n",
      " [20 20 20]\n",
      " [20 20 20]]\n"
     ]
    }
   ],
   "source": [
    "x=np.full((3,3),20)\n",
    "print(x)"
   ]
  },
  {
   "cell_type": "code",
   "execution_count": null,
   "id": "cdeb414f",
   "metadata": {},
   "outputs": [
    {
     "name": "stdout",
     "output_type": "stream",
     "text": [
      "[ 1  2  3  4  5  6  7  8  9 10]\n"
     ]
    }
   ],
   "source": [
    "#Basic Array Creation\n",
    "\n",
    "# 1D numpy array with numbers 1 to 10\n",
    "import numpy as np\n",
    "x=np.arange(1,11)\n",
    "print(x)"
   ]
  },
  {
   "cell_type": "code",
   "execution_count": 9,
   "id": "27ac2a3f",
   "metadata": {},
   "outputs": [
    {
     "name": "stdout",
     "output_type": "stream",
     "text": [
      "[0 0 0 0 0]\n"
     ]
    }
   ],
   "source": [
    "# Numpy array of zeros of size 5\n",
    "num=np.zeros(5,dtype=int)\n",
    "print(num)"
   ]
  },
  {
   "cell_type": "code",
   "execution_count": 14,
   "id": "7df74c11",
   "metadata": {},
   "outputs": [
    {
     "name": "stdout",
     "output_type": "stream",
     "text": [
      "[[1 1 1 1]\n",
      " [1 1 1 1]\n",
      " [1 1 1 1]\n",
      " [1 1 1 1]]\n"
     ]
    }
   ],
   "source": [
    "# Numpy array of size 4*4\n",
    "arr=np.ones((4,4),dtype=int)\n",
    "print(arr)"
   ]
  },
  {
   "cell_type": "code",
   "execution_count": 16,
   "id": "67c0523f",
   "metadata": {},
   "outputs": [
    {
     "name": "stdout",
     "output_type": "stream",
     "text": [
      "[ 2  4  6  8 10 12 14 16 18 20]\n"
     ]
    }
   ],
   "source": [
    "# Even numbers from 2 to 20\n",
    "even_num=np.arange(2,21,2)\n",
    "print(even_num)\n"
   ]
  },
  {
   "cell_type": "code",
   "execution_count": 18,
   "id": "b8f40005",
   "metadata": {},
   "outputs": [
    {
     "name": "stdout",
     "output_type": "stream",
     "text": [
      "[10 15 20 25 30 35 40 45 50]\n"
     ]
    }
   ],
   "source": [
    "# Create an array with values 10 to 50 step 5\n",
    "arr=np.arange(10,51,5)\n",
    "print(arr)"
   ]
  },
  {
   "cell_type": "code",
   "execution_count": 21,
   "id": "6cd8415c",
   "metadata": {},
   "outputs": [
    {
     "name": "stdout",
     "output_type": "stream",
     "text": [
      "[3 6 9]\n"
     ]
    }
   ],
   "source": [
    "# Array Operations\n",
    "\n",
    "#Create an array [1,2,3] and multiply it by 3\n",
    "a=np.array([1,2,3])*3\n",
    "print(a)\n"
   ]
  },
  {
   "cell_type": "code",
   "execution_count": 24,
   "id": "9f3c4ff2",
   "metadata": {},
   "outputs": [
    {
     "name": "stdout",
     "output_type": "stream",
     "text": [
      "[5 2 8 8]\n"
     ]
    }
   ],
   "source": [
    "# Create 2 arrays and add them element wise\n",
    "x=np.array([1,2,3,4])\n",
    "y=np.array([4,0,5,4])\n",
    "print(x+y)\n",
    "\n",
    "\n",
    "\n"
   ]
  },
  {
   "cell_type": "code",
   "execution_count": 28,
   "id": "db90a5b4",
   "metadata": {},
   "outputs": [
    {
     "name": "stdout",
     "output_type": "stream",
     "text": [
      "25.0\n"
     ]
    }
   ],
   "source": [
    "# Create an array and find is mean\n",
    "arr1=np.array([10,20,30,40])\n",
    "mean=np.mean(arr1)\n",
    "print(mean)"
   ]
  },
  {
   "cell_type": "code",
   "execution_count": 32,
   "id": "1e4e82a7",
   "metadata": {},
   "outputs": [
    {
     "name": "stdout",
     "output_type": "stream",
     "text": [
      "[2. 3. 4. 5.]\n"
     ]
    }
   ],
   "source": [
    "# Create an array and find square root\n",
    "arr2=np.array([4,9,16,25])\n",
    "sqr=np.sqrt(arr2)\n",
    "print(sqr)"
   ]
  },
  {
   "cell_type": "code",
   "execution_count": 41,
   "id": "8707ef1e",
   "metadata": {},
   "outputs": [
    {
     "name": "stdout",
     "output_type": "stream",
     "text": [
      "2.3631988637814696\n"
     ]
    }
   ],
   "source": [
    "# Create an random array of size 5 and its sum\n",
    "ran=np.random.rand(5)\n",
    "s=np.sum(ran)\n",
    "print(s)"
   ]
  },
  {
   "cell_type": "code",
   "execution_count": 47,
   "id": "4a1a7183",
   "metadata": {},
   "outputs": [
    {
     "name": "stdout",
     "output_type": "stream",
     "text": [
      "[1 2 3 4 5]\n"
     ]
    }
   ],
   "source": [
    "# Indexing and slicing\n",
    "# Slice first 5 elements from an array 1 to 10\n",
    "ele=np.arange(1,11)\n",
    "print(ele[:5])"
   ]
  },
  {
   "cell_type": "code",
   "execution_count": 48,
   "id": "7c6c68e8",
   "metadata": {},
   "outputs": [
    {
     "name": "stdout",
     "output_type": "stream",
     "text": [
      "[40 50]\n"
     ]
    }
   ],
   "source": [
    "# Get last 2 elements of [10,20,30,40,50]\n",
    "element=np.array([10,20,30,40,50])\n",
    "print(element[3:])"
   ]
  },
  {
   "cell_type": "code",
   "execution_count": 51,
   "id": "f62c18b7",
   "metadata": {},
   "outputs": [
    {
     "name": "stdout",
     "output_type": "stream",
     "text": [
      "[ 1  2 99  4  5]\n"
     ]
    }
   ],
   "source": [
    "# Change 3rd element to 99\n",
    "elem=np.array([1,2,3,4,5])\n",
    "elem[2]=99\n",
    "print(elem)"
   ]
  },
  {
   "cell_type": "code",
   "execution_count": 2,
   "id": "aef64d82",
   "metadata": {},
   "outputs": [
    {
     "name": "stdout",
     "output_type": "stream",
     "text": [
      "[5 4 3 2 1]\n"
     ]
    }
   ],
   "source": [
    "# Create 1D array and reverse it using slicing\n",
    "import numpy as np\n",
    "new_arry=np.array([1,2,3,4,5])\n",
    "rev=new_arry[::-1]\n",
    "print(rev)"
   ]
  },
  {
   "cell_type": "code",
   "execution_count": 5,
   "id": "908babfd",
   "metadata": {},
   "outputs": [
    {
     "name": "stdout",
     "output_type": "stream",
     "text": [
      "98\n"
     ]
    }
   ],
   "source": [
    "# Random integer between 1 to 100\n",
    "random_num=np.random.randint(1,101)\n",
    "print(random_num)"
   ]
  },
  {
   "cell_type": "code",
   "execution_count": 8,
   "id": "e3a1e498",
   "metadata": {},
   "outputs": [
    {
     "name": "stdout",
     "output_type": "stream",
     "text": [
      "[0.05356378 0.90302467 0.49681936 0.94634723 0.71565307 0.06952278\n",
      " 0.73239868 0.75081484 0.03430618 0.39115584]\n"
     ]
    }
   ],
   "source": [
    "# 10 Random num between 0 and 1\n",
    "r_num=np.random.rand(10)\n",
    "print(r_num)\n"
   ]
  },
  {
   "cell_type": "code",
   "execution_count": 12,
   "id": "5ce76d94",
   "metadata": {},
   "outputs": [
    {
     "name": "stdout",
     "output_type": "stream",
     "text": [
      "[[0.68792171 0.37135297 0.2990197 ]\n",
      " [0.08990814 0.68004179 0.73155414]\n",
      " [0.16561695 0.42995009 0.09262458]]\n"
     ]
    }
   ],
   "source": [
    "# Generate a random array of size 3*3\n",
    "ran=np.random.rand(3,3)\n",
    "print(ran)"
   ]
  },
  {
   "cell_type": "code",
   "execution_count": 29,
   "id": "6b4050c4",
   "metadata": {},
   "outputs": [
    {
     "name": "stdout",
     "output_type": "stream",
     "text": [
      "[[6 5 8 7]\n",
      " [6 6 5 9]\n",
      " [7 6 5 8]]\n",
      "[[6 6 7]\n",
      " [5 6 6]\n",
      " [8 5 5]\n",
      " [7 9 8]]\n"
     ]
    }
   ],
   "source": [
    "\n",
    "new_trans=np.array(np.random.randint(5,10,(3,4)))\n",
    "\n",
    "print(new_trans)\n",
    "trans=np.transpose(new_trans)\n",
    "print(trans)"
   ]
  },
  {
   "cell_type": "code",
   "execution_count": 40,
   "id": "1814eb40",
   "metadata": {},
   "outputs": [
    {
     "name": "stdout",
     "output_type": "stream",
     "text": [
      "[[13 34 40 28 29 35 32 36]\n",
      " [23 32 24 25 19 33 33 33]\n",
      " [15 32 12 16 39 28 19 24]]\n",
      "(3, 8)\n",
      "[[[13 34 40]\n",
      "  [28 29 35]\n",
      "  [32 36 23]\n",
      "  [32 24 25]]\n",
      "\n",
      " [[19 33 33]\n",
      "  [33 15 32]\n",
      "  [12 16 39]\n",
      "  [28 19 24]]]\n"
     ]
    }
   ],
   "source": [
    "reshape=np.array(np.random.randint(10,45,(3,8)))\n",
    "print(reshape)\n",
    "print(reshape.shape)\n",
    "arr=(2,4,3)\n",
    "s=np.reshape(reshape,arr)\n",
    "print(s)"
   ]
  },
  {
   "cell_type": "code",
   "execution_count": 26,
   "id": "e25d586f",
   "metadata": {},
   "outputs": [
    {
     "name": "stdout",
     "output_type": "stream",
     "text": [
      "[ 0.70294501  0.28932712  0.03601308  0.97631202 -1.09753779]\n"
     ]
    }
   ],
   "source": [
    "# 5 random numbers normal distribution\n",
    "r=np.random.randn(5)\n",
    "print(r)\n",
    "\n",
    "\n"
   ]
  },
  {
   "cell_type": "code",
   "execution_count": 24,
   "id": "8865f87f",
   "metadata": {},
   "outputs": [
    {
     "name": "stdout",
     "output_type": "stream",
     "text": [
      "None\n"
     ]
    }
   ],
   "source": [
    "# Shuffle an array [1,2,3,4,5] randomly\n",
    "r_array=[1,2,3,4,5]\n",
    "new_rand=np.random.shuffle(r_array)\n",
    "print(new_rand)"
   ]
  },
  {
   "cell_type": "code",
   "execution_count": 41,
   "id": "af337dfe",
   "metadata": {},
   "outputs": [
    {
     "name": "stdout",
     "output_type": "stream",
     "text": [
      "[[8 8 7 9]\n",
      " [7 5 7 7]\n",
      " [8 6 7 5]]\n",
      "[[[8 8]\n",
      "  [7 9]\n",
      "  [7 5]\n",
      "  [7 7]]\n",
      "\n",
      " [[8 6]\n",
      "  [7 5]\n",
      "  [8 8]\n",
      "  [7 9]]]\n"
     ]
    }
   ],
   "source": [
    "resize=np.array(np.random.randint(5,10,(3,4)))\n",
    "print(resize)\n",
    "s=(2,4,2)\n",
    "arr_s=np.resize(resize,s)\n",
    "print(arr_s)"
   ]
  },
  {
   "cell_type": "code",
   "execution_count": 43,
   "id": "e9d727ec",
   "metadata": {},
   "outputs": [
    {
     "name": "stdout",
     "output_type": "stream",
     "text": [
      "[[5 8 4]\n",
      " [8 5 7]\n",
      " [5 9 3]\n",
      " [7 4 8]]\n",
      "[5 8 4 8 5 7 5 9 3 7 4 8]\n"
     ]
    }
   ],
   "source": [
    "f=np.array(np.random.randint(3,10,(4,3)))\n",
    "print(f)\n",
    "arr_f=f.flatten()\n",
    "print(arr_f)"
   ]
  }
 ],
 "metadata": {
  "kernelspec": {
   "display_name": "Python 3",
   "language": "python",
   "name": "python3"
  },
  "language_info": {
   "codemirror_mode": {
    "name": "ipython",
    "version": 3
   },
   "file_extension": ".py",
   "mimetype": "text/x-python",
   "name": "python",
   "nbconvert_exporter": "python",
   "pygments_lexer": "ipython3",
   "version": "3.13.5"
  }
 },
 "nbformat": 4,
 "nbformat_minor": 5
}
