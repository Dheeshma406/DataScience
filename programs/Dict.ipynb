{
 "cells": [
  {
   "cell_type": "code",
   "execution_count": 11,
   "id": "410ace71",
   "metadata": {},
   "outputs": [
    {
     "name": "stdout",
     "output_type": "stream",
     "text": [
      "{'anu': 60000, 'sam': 250000, 'abi': 92000}\n",
      "250000\n",
      "{'anu': 60000, 'sam': 250000, 'abi': 92000, 'rani': 45000}\n"
     ]
    }
   ],
   "source": [
    "emp_salary={'anu':60000,'sam':250000,'abi':92000}\n",
    "print(emp_salary)\n",
    "print(emp_salary['sam'])     # Access the value\n",
    "emp_salary['rani']=45000     # add a value \n",
    "print(emp_salary)\n",
    "\n"
   ]
  },
  {
   "cell_type": "code",
   "execution_count": null,
   "id": "4cce716f",
   "metadata": {},
   "outputs": [
    {
     "name": "stdout",
     "output_type": "stream",
     "text": [
      "{'anu': 60000, 'sam': 250000}\n",
      "('sam', 250000)\n"
     ]
    }
   ],
   "source": [
    "# pop item\n",
    "emp_salary={'anu':60000,'sam':250000,'abi':92000}\n",
    "emp_salary.popitem()    # last value will be removed\n",
    "print(emp_salary)\n",
    "\n",
    "# store a popitem\n",
    "a=emp_salary.popitem()\n",
    "print(a)                 # tuple format o/p"
   ]
  },
  {
   "cell_type": "code",
   "execution_count": 21,
   "id": "4275c987",
   "metadata": {},
   "outputs": [
    {
     "name": "stdout",
     "output_type": "stream",
     "text": [
      "{'sam': 250000, 'abi': 92000}\n"
     ]
    }
   ],
   "source": [
    "# pop\n",
    "emp_salary={'anu':60000,'sam':250000,'abi':92000}\n",
    "emp_salary.pop('anu')\n",
    "print(emp_salary)"
   ]
  },
  {
   "cell_type": "code",
   "execution_count": null,
   "id": "784cb470",
   "metadata": {},
   "outputs": [
    {
     "name": "stdout",
     "output_type": "stream",
     "text": [
      "92000\n"
     ]
    }
   ],
   "source": [
    "emp_salary={'anu':60000,'sam':250000,'abi':92000}\n",
    "print(emp_salary.get('abi'))\n"
   ]
  },
  {
   "cell_type": "code",
   "execution_count": null,
   "id": "d3795743",
   "metadata": {},
   "outputs": [
    {
     "name": "stdout",
     "output_type": "stream",
     "text": [
      "{'name': 'John', 'place': 'trivandrum', 'phone': 8745388, 'salary': 40000}\n",
      "trivandrum\n"
     ]
    }
   ],
   "source": [
    "emp_details={'name':'John','place':'trivandrum','phone':8745388,'salary':40000}\n",
    "print(emp_details)\n",
    "print(emp_details['place'])   # Access the value\n",
    "\n",
    "\n"
   ]
  },
  {
   "cell_type": "code",
   "execution_count": 5,
   "id": "ec2b88b8",
   "metadata": {},
   "outputs": [
    {
     "name": "stdout",
     "output_type": "stream",
     "text": [
      "{'name': 'John', 'place': 'trivandrum', 'phone': 8745388, 'salary': 40000}\n",
      "dict_values(['John', 'trivandrum', 8745388, 40000])\n"
     ]
    }
   ],
   "source": [
    "# Key Methods\n",
    "emp_details.keys()\n",
    "print(emp_details)\n",
    "print(emp_details.values())"
   ]
  },
  {
   "cell_type": "code",
   "execution_count": 6,
   "id": "4934a38c",
   "metadata": {},
   "outputs": [
    {
     "name": "stdout",
     "output_type": "stream",
     "text": [
      "{'name': 'John', 'place': 'trivandrum', 'phone': 8745388, 'salary': 40000}\n"
     ]
    }
   ],
   "source": [
    "# items()\n",
    "emp_details.items()\n",
    "print(emp_details)"
   ]
  },
  {
   "cell_type": "code",
   "execution_count": null,
   "id": "ea482a32",
   "metadata": {},
   "outputs": [
    {
     "name": "stdout",
     "output_type": "stream",
     "text": [
      "{'name': 'John', 'place': 'trivandrum', 'phone': 8745388, 'salary': 40000}\n",
      "{'name': 'John', 'place': 'trivandrum', 'phone': 8745388, 'salary': 40000, 'Job': 'techie'}\n"
     ]
    }
   ],
   "source": [
    "print(emp_details)\n",
    "emp_details['Job']='techie'     # New key\n",
    "print(emp_details)"
   ]
  },
  {
   "cell_type": "code",
   "execution_count": null,
   "id": "450c7db5",
   "metadata": {},
   "outputs": [
    {
     "name": "stdout",
     "output_type": "stream",
     "text": [
      "{'name': 'sam', 'place': 'trivandrum', 'phone': 8745388, 'salary': 40000, 'Job': 'techie'}\n"
     ]
    }
   ],
   "source": [
    "emp_details.update({'name':'sam'})\n",
    "print(emp_details)                   # update"
   ]
  },
  {
   "cell_type": "code",
   "execution_count": 20,
   "id": "ee82b04c",
   "metadata": {},
   "outputs": [
    {
     "name": "stdout",
     "output_type": "stream",
     "text": [
      "{'sam': 'trivandrum', 'anu': 'kottayam', 'lily': 'munnar', 'binu': 'chennai'}\n",
      "{'sam': 'trivandrum', 'lily': 'munnar', 'binu': 'chennai', 'malu': 'kottayam'}\n"
     ]
    }
   ],
   "source": [
    "emp_list=['sam','anu','lily','binu']\n",
    "emp_details=['trivandrum','kottayam','munnar','chennai']\n",
    "#total_list=zip(emp_list,emp_details)\n",
    "total_list=dict(zip(emp_list,emp_details))\n",
    "print(total_list)\n",
    "total_list['malu']=total_list.pop('anu')\n",
    "print(total_list)\n"
   ]
  },
  {
   "cell_type": "code",
   "execution_count": 24,
   "id": "6cf7843f",
   "metadata": {},
   "outputs": [
    {
     "name": "stdout",
     "output_type": "stream",
     "text": [
      "{2: 4, 3: 9, 4: 16, 8: 64}\n"
     ]
    }
   ],
   "source": [
    "num_list=[2,3,4,8]\n",
    "num2_list=[4,9,16,64]\n",
    "total_list=dict(zip(num_list,num2_list))\n",
    "print(total_list)\n"
   ]
  },
  {
   "cell_type": "code",
   "execution_count": null,
   "id": "9df2c0cc",
   "metadata": {},
   "outputs": [],
   "source": []
  }
 ],
 "metadata": {
  "kernelspec": {
   "display_name": "Python 3",
   "language": "python",
   "name": "python3"
  },
  "language_info": {
   "codemirror_mode": {
    "name": "ipython",
    "version": 3
   },
   "file_extension": ".py",
   "mimetype": "text/x-python",
   "name": "python",
   "nbconvert_exporter": "python",
   "pygments_lexer": "ipython3",
   "version": "3.13.5"
  }
 },
 "nbformat": 4,
 "nbformat_minor": 5
}
