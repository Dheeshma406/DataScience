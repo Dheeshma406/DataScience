{
 "cells": [
  {
   "cell_type": "code",
   "execution_count": 7,
   "id": "b42a6c88",
   "metadata": {},
   "outputs": [
    {
     "name": "stdout",
     "output_type": "stream",
     "text": [
      "7\n",
      "3\n",
      "8\n",
      "2.0\n"
     ]
    }
   ],
   "source": [
    "def add(a,b):\n",
    "    sum=a+b\n",
    "    return sum\n",
    "\n",
    "def sub(a,b):\n",
    "    sub1=a-b\n",
    "    return sub1\n",
    "\n",
    "def mul(a,b):\n",
    "    multi=a*b\n",
    "    return multi\n",
    "\n",
    "def div(a,b):\n",
    "    div1=a/b\n",
    "    return div1\n",
    "\n",
    "print(add(5,2))\n",
    "print(sub(6,3))\n",
    "print(mul(4,2))\n",
    "print(div(10,5))\n",
    "\n"
   ]
  },
  {
   "cell_type": "code",
   "execution_count": null,
   "id": "eb71467d",
   "metadata": {},
   "outputs": [
    {
     "name": "stdout",
     "output_type": "stream",
     "text": [
      "<function add at 0x0000024171F22E80>\n",
      "<function sub at 0x0000024171F22F20>\n",
      "<function mul at 0x0000024171F21EE0>\n",
      "<function div at 0x0000024171F205E0>\n"
     ]
    }
   ],
   "source": [
    "num1=int(input(\"Enter the first number\"))\n",
    "num2=int(input(\"Enter the second number\"))\n",
    "print(add)\n",
    "print(sub)\n",
    "print(mul)\n",
    "print(div)\n",
    "x=input(\"enter the number\")\n",
    "if x==1:\n",
    " add(num1,num2)\n",
    "\n",
    "elif x==2:\n",
    " sub(num1,num2)\n",
    "\n",
    "elif x==3:\n",
    " mul(num1,num2)\n",
    "\n",
    "else:\n",
    " div(num1,num2)\n",
    "\n",
    "a=(\"Do you want to continue y/n\")\n",
    "while a(\"y/n\"):\n",
    "   break\n",
    "else:\n",
    "   continue\n",
    " \n",
    "\n",
    "\n",
    "\n",
    " \n",
    "  \n",
    "    \n",
    "\n",
    "\n",
    "\n",
    "\n",
    "  \n",
    "\n",
    "\n",
    "\n"
   ]
  }
 ],
 "metadata": {
  "kernelspec": {
   "display_name": "Python 3",
   "language": "python",
   "name": "python3"
  },
  "language_info": {
   "codemirror_mode": {
    "name": "ipython",
    "version": 3
   },
   "file_extension": ".py",
   "mimetype": "text/x-python",
   "name": "python",
   "nbconvert_exporter": "python",
   "pygments_lexer": "ipython3",
   "version": "3.13.5"
  }
 },
 "nbformat": 4,
 "nbformat_minor": 5
}
