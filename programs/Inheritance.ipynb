{
 "cells": [
  {
   "cell_type": "code",
   "execution_count": 7,
   "id": "0d57cea3",
   "metadata": {},
   "outputs": [
    {
     "name": "stdout",
     "output_type": "stream",
     "text": [
      "Rahul\n",
      "20\n",
      "sai\n",
      "40\n"
     ]
    }
   ],
   "source": [
    "class student:\n",
    "    def __init__(self,name,grade):\n",
    "        self.name=name\n",
    "        self.grade=grade\n",
    "\n",
    "    \n",
    "\n",
    "det1=student(\"Rahul\",\"20\")\n",
    "det2=student(\"sai\",\"40\")\n",
    "print(det1.name)\n",
    "print(det1.grade)\n",
    "print(det2.name)\n",
    "print(det2.grade)\n",
    "\n",
    "\n",
    "        \n"
   ]
  },
  {
   "cell_type": "code",
   "execution_count": 5,
   "id": "1a65a02e",
   "metadata": {},
   "outputs": [
    {
     "name": "stdout",
     "output_type": "stream",
     "text": [
      "Tvm\n",
      "sam 18 80\n"
     ]
    }
   ],
   "source": [
    "class studentdetails:\n",
    "        def __init__(self,name,age,marks):\n",
    "    \n",
    "            self.name=name\n",
    "            self.age=age\n",
    "            self.marks=marks\n",
    "        def details(self):\n",
    "            print(\"Tvm\")\n",
    "a=studentdetails(\"sam\",\"18\",\"80\")\n",
    "a.details()\n",
    "print(a.name,a.age,a.marks)\n",
    "\n",
    "\n",
    "\n",
    "        \n",
    "\n",
    "        \n",
    "        \n",
    "        \n",
    "\n",
    "    "
   ]
  },
  {
   "cell_type": "code",
   "execution_count": 11,
   "id": "c355b869",
   "metadata": {},
   "outputs": [
    {
     "name": "stdout",
     "output_type": "stream",
     "text": [
      "Name:John\n",
      "Course:Python\n"
     ]
    }
   ],
   "source": [
    "class person:\n",
    "    def show_name(self):\n",
    "        print(\"Name:John\")\n",
    "class student(person):\n",
    "    def show_course(self):\n",
    "        print(\"Course:Python\")\n",
    "details=student()\n",
    "details.show_name()\n",
    "details.show_course()"
   ]
  },
  {
   "cell_type": "code",
   "execution_count": 12,
   "id": "64b72d06",
   "metadata": {},
   "outputs": [
    {
     "name": "stdout",
     "output_type": "stream",
     "text": [
      "Vehicle Started\n",
      "Car is driving\n"
     ]
    }
   ],
   "source": [
    "class vehicle:\n",
    "    def start(self):\n",
    "        print(\"Vehicle Started\")\n",
    "class car(vehicle):\n",
    "    def drive(self):\n",
    "        print(\"Car is driving\")\n",
    "c=car()\n",
    "c.start()\n",
    "c.drive()\n"
   ]
  },
  {
   "cell_type": "code",
   "execution_count": 15,
   "id": "e662955d",
   "metadata": {},
   "outputs": [
    {
     "name": "stdout",
     "output_type": "stream",
     "text": [
      "Role:Employee\n",
      "Department:HR\n"
     ]
    }
   ],
   "source": [
    "class employee:\n",
    "    def show_role(self):\n",
    "        print(\"Role:Employee\")\n",
    "class manager(employee):\n",
    "    def show_department(self):\n",
    "        print(\"Department:HR\")\n",
    "a=manager()  \n",
    "a.show_role()\n",
    "a.show_department()      \n",
    "    "
   ]
  },
  {
   "cell_type": "code",
   "execution_count": 21,
   "id": "72c0cfc8",
   "metadata": {},
   "outputs": [
    {
     "name": "stdout",
     "output_type": "stream",
     "text": [
      "Name:Rani age:70\n",
      "Engineer\n",
      "Marks:100\n"
     ]
    }
   ],
   "source": [
    "class grandparent:\n",
    "    def show_grandparent(self):\n",
    "        print(\"Name:Rani\",\"age:70\")\n",
    "class parent(grandparent):\n",
    "    def show_parent(self):\n",
    "        print(\"Engineer\")\n",
    "class child(parent):\n",
    "    def show_child(self):\n",
    "        print(\"Marks:100\")\n",
    "member1=child()\n",
    "member1.show_grandparent()\n",
    "member1.show_parent()\n",
    "member1.show_child()\n",
    "\n"
   ]
  },
  {
   "cell_type": "code",
   "execution_count": 6,
   "id": "33b1be35",
   "metadata": {},
   "outputs": [
    {
     "name": "stdout",
     "output_type": "stream",
     "text": [
      "Dogs are barking\n",
      "Mammals are walking\n",
      "Animals are eating\n"
     ]
    }
   ],
   "source": [
    "class animal:\n",
    "    def eat(self):\n",
    "        print(\"Animals are eating\")\n",
    "\n",
    "class mammal(animal):\n",
    "    def walk(self):\n",
    "        print(\"Mammals are walking\")\n",
    "\n",
    "class dog(mammal):\n",
    "    def bark(self):\n",
    "        print(\"Dogs are barking\")\n",
    "\n",
    "d=dog()\n",
    "d.bark()\n",
    "d.walk()\n",
    "d.eat()\n"
   ]
  },
  {
   "cell_type": "code",
   "execution_count": 7,
   "id": "965d3347",
   "metadata": {},
   "outputs": [
    {
     "name": "stdout",
     "output_type": "stream",
     "text": [
      "High performance for gaming\n",
      "This is a laptop\n",
      "General Device\n"
     ]
    }
   ],
   "source": [
    "class device:\n",
    "    def device_info(self):\n",
    "        print(\"General Device\")\n",
    "class laptop(device):\n",
    "    def laptop_info(self):\n",
    "        print(\"This is a laptop\")\n",
    "class gaminglaptop(laptop):\n",
    "    def gaming_info(self):\n",
    "        print(\"High performance for gaming\")\n",
    "\n",
    "a=gaminglaptop()\n",
    "a.gaming_info()\n",
    "a.laptop_info()\n",
    "a.device_info()\n",
    "\n",
    "    "
   ]
  },
  {
   "cell_type": "code",
   "execution_count": 33,
   "id": "a0b89b0a",
   "metadata": {},
   "outputs": [
    {
     "name": "stdout",
     "output_type": "stream",
     "text": [
      "Cow says mooo\n",
      "Sheep says baaa\n"
     ]
    }
   ],
   "source": [
    "# Polimorphism\n",
    "\n",
    "class animal:\n",
    "        def speak(self):\n",
    "                pass\n",
    "        \n",
    "class cow(animal):\n",
    "        def speak(self):\n",
    "            print(\"Cow says mooo\")\n",
    "       \n",
    "class sheep(animal):\n",
    "        def speak(self):\n",
    "            print(\"Sheep says baaa\")\n",
    "\n",
    "c=cow()\n",
    "s=sheep()\n",
    "c.speak()\n",
    "s.speak()\n",
    "\n"
   ]
  },
  {
   "cell_type": "code",
   "execution_count": 36,
   "id": "471f44a5",
   "metadata": {},
   "outputs": [
    {
     "name": "stdout",
     "output_type": "stream",
     "text": [
      "Car horn:Beep Beep\n",
      "Bike horn:Peep Peep\n"
     ]
    }
   ],
   "source": [
    "class vehicle:\n",
    "    def horn(self):\n",
    "        pass\n",
    "class car(vehicle):\n",
    "    def horn(self):\n",
    "        print(\"Car horn:Beep Beep\")\n",
    "\n",
    "class bike(vehicle):\n",
    "    def horn(self):\n",
    "        print(\"Bike horn:Peep Peep\")\n",
    "\n",
    "c=car()\n",
    "b=bike()\n",
    "c.horn()\n",
    "b.horn()"
   ]
  },
  {
   "cell_type": "code",
   "execution_count": null,
   "id": "ed9ff532",
   "metadata": {},
   "outputs": [
    {
     "name": "stdout",
     "output_type": "stream",
     "text": [
      "square: 20\n",
      "Triangle: 12\n"
     ]
    }
   ],
   "source": [
    "class shape:\n",
    "    \n",
    "    def perimeter(self):\n",
    "        pass\n",
    "class square(shape):\n",
    "    def perimeter(self):\n",
    "        side=5\n",
    "        print(\"square:\",4*side)\n",
    "class triangle(shape):\n",
    "    def perimeter(self):\n",
    "        side1=3\n",
    "        side2=4\n",
    "        side3=5\n",
    "        print(\"Triangle:\",side1+side2+side3)\n",
    "\n",
    "\n",
    "sq=square()\n",
    "tri=triangle()\n",
    "sq.perimeter()\n",
    "tri.perimeter()\n",
    "              "
   ]
  },
  {
   "cell_type": "code",
   "execution_count": 2,
   "id": "7e327382",
   "metadata": {},
   "outputs": [
    {
     "name": "stdout",
     "output_type": "stream",
     "text": [
      "Rectangle area: 50\n",
      "Circle area: 28.26\n"
     ]
    }
   ],
   "source": [
    "class shape:\n",
    "    def area(self):\n",
    "        pass\n",
    "class rectangle(shape):\n",
    "    def area(self):\n",
    "        length=10\n",
    "        width=5\n",
    "        area=length*width\n",
    "        print(\"Rectangle area:\",area)\n",
    "        \n",
    "class circle(shape):\n",
    "    def area(self):\n",
    "        radius=3\n",
    "        area=3.14*radius**2\n",
    "        print(\"Circle area:\",area)\n",
    "r=rectangle()\n",
    "c=circle()\n",
    "r.area()\n",
    "c.area()\n"
   ]
  },
  {
   "cell_type": "code",
   "execution_count": null,
   "id": "fb3e6a47",
   "metadata": {},
   "outputs": [],
   "source": []
  }
 ],
 "metadata": {
  "kernelspec": {
   "display_name": "Python 3",
   "language": "python",
   "name": "python3"
  },
  "language_info": {
   "codemirror_mode": {
    "name": "ipython",
    "version": 3
   },
   "file_extension": ".py",
   "mimetype": "text/x-python",
   "name": "python",
   "nbconvert_exporter": "python",
   "pygments_lexer": "ipython3",
   "version": "3.13.5"
  }
 },
 "nbformat": 4,
 "nbformat_minor": 5
}
