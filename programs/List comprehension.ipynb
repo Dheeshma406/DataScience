{
 "cells": [
  {
   "cell_type": "code",
   "execution_count": 11,
   "id": "c5b44ac0",
   "metadata": {},
   "outputs": [
    {
     "name": "stdout",
     "output_type": "stream",
     "text": [
      "['Hi', 'I', 'am', 'Dheeshma', 'in', 'srishti', 'innovative']\n",
      "['H', 'I', 'a', 'D', 'i', 's', 'i']\n"
     ]
    }
   ],
   "source": [
    "sent=['Hi I am Dheeshma in srishti innovative']\n",
    "new_sent=sent[0].split()\n",
    "print(new_sent)\n",
    "new_string=[word[0]  for word in new_sent]\n",
    "print(new_string)"
   ]
  },
  {
   "cell_type": "code",
   "execution_count": 20,
   "id": "75c6ff80",
   "metadata": {},
   "outputs": [
    {
     "name": "stdout",
     "output_type": "stream",
     "text": [
      "{'L'}\n"
     ]
    }
   ],
   "source": [
    "words={'Learn python is very easy in data science'}\n",
    "new_words={ i[0] for i in words}\n",
    "print(new_words)"
   ]
  },
  {
   "cell_type": "code",
   "execution_count": 3,
   "id": "054335b2",
   "metadata": {},
   "outputs": [
    {
     "name": "stdout",
     "output_type": "stream",
     "text": [
      "['This', 'is', 'a', 'test', 'sentence']\n",
      "('T', 'i', 'a', 't', 's')\n"
     ]
    }
   ],
   "source": [
    "tup=(\"This is a test sentence\")\n",
    "new_sent=tup.split()\n",
    "print(new_sent)\n",
    "new_tup=tuple([ch[0] for ch in new_sent])\n",
    "print(new_tup)"
   ]
  },
  {
   "cell_type": "code",
   "execution_count": 31,
   "id": "1ab04e33",
   "metadata": {},
   "outputs": [
    {
     "name": "stdout",
     "output_type": "stream",
     "text": [
      "{'India': 'NewDelhi', 'America': 'canberra'}\n"
     ]
    }
   ],
   "source": [
    "sent1={'India':'NewDelhi','America':'canberra'}\n",
    "dict={city:country for city,country in sent1.items()}\n",
    "print(dict)\n"
   ]
  },
  {
   "cell_type": "code",
   "execution_count": null,
   "id": "7a630233",
   "metadata": {},
   "outputs": [
    {
     "name": "stdout",
     "output_type": "stream",
     "text": [
      "{'NewDelhi': 'India', 'canberra': 'America'}\n"
     ]
    }
   ],
   "source": [
    "dict={'India':'NewDelhi','America':'canberra'}\n",
    "flipped_dict={city:country for country,city in dict.items()}\n",
    "print(flipped_dict)\n",
    "\n"
   ]
  },
  {
   "cell_type": "code",
   "execution_count": 38,
   "id": "ece597b6",
   "metadata": {},
   "outputs": [
    {
     "name": "stdout",
     "output_type": "stream",
     "text": [
      "{'New': 'Indi', 'can': 'Amer'}\n"
     ]
    }
   ],
   "source": [
    "flipped_dict={city[:3]:country[:4] for country,city in dict.items()}\n",
    "print(flipped_dict)"
   ]
  },
  {
   "cell_type": "code",
   "execution_count": null,
   "id": "012444cd",
   "metadata": {},
   "outputs": [
    {
     "name": "stdout",
     "output_type": "stream",
     "text": [
      "{'ani': 'sai', 'ali': 'bin'}\n"
     ]
    }
   ],
   "source": [
    "dic={'ani':'sai','ali':'bin','imal':'sam'}\n",
    "new_dic={key:value for key,value in dic.items() if key[0] not in ['i'] if value not in ['sam']}\n",
    "print(new_dic)"
   ]
  },
  {
   "cell_type": "code",
   "execution_count": 48,
   "id": "97d9810a",
   "metadata": {},
   "outputs": [],
   "source": [
    "# Even or odd\n",
    "def evenorodd(num):\n",
    "    if num%2==0:\n",
    "        print(\"even\")\n",
    "    else:\n",
    "        print(\"odd\")\n",
    "\n",
    "              "
   ]
  },
  {
   "cell_type": "code",
   "execution_count": 49,
   "id": "ae67398d",
   "metadata": {},
   "outputs": [
    {
     "name": "stdout",
     "output_type": "stream",
     "text": [
      "even\n"
     ]
    }
   ],
   "source": [
    "evenorodd(4)"
   ]
  },
  {
   "cell_type": "code",
   "execution_count": 1,
   "id": "d55e4990",
   "metadata": {},
   "outputs": [
    {
     "name": "stdout",
     "output_type": "stream",
     "text": [
      "0\n",
      "1\n",
      "2\n",
      "3\n",
      "4\n",
      "5\n",
      "6\n",
      "7\n",
      "8\n",
      "9\n"
     ]
    }
   ],
   "source": [
    "def numbers(num):\n",
    "    for i in range(0,num):\n",
    "        print(i)\n",
    "\n",
    "numbers(10)"
   ]
  },
  {
   "cell_type": "code",
   "execution_count": 60,
   "id": "52eed6f3",
   "metadata": {},
   "outputs": [
    {
     "name": "stdout",
     "output_type": "stream",
     "text": [
      "pythonprogram\n"
     ]
    }
   ],
   "source": [
    "word=\"python\"\n",
    "def str1(word,s):\n",
    "        str=word+s\n",
    "        print(str)\n",
    "str1(word,\"program\")    \n",
    "\n",
    "\n",
    "        "
   ]
  },
  {
   "cell_type": "code",
   "execution_count": null,
   "id": "9eb6aad2",
   "metadata": {},
   "outputs": [
    {
     "data": {
      "text/plain": [
       "2"
      ]
     },
     "execution_count": 18,
     "metadata": {},
     "output_type": "execute_result"
    }
   ],
   "source": [
    "def vowels(word):\n",
    "    count=0\n",
    "    for i in word:\n",
    "        if i in \"aeiou\":\n",
    "            count+=1\n",
    "    return count\n",
    "\n",
    "                              \n",
    "vowels(\"jikku\")       \n",
    "        \n",
    "\n",
    "        "
   ]
  },
  {
   "cell_type": "code",
   "execution_count": 16,
   "id": "54211ba8",
   "metadata": {},
   "outputs": [
    {
     "data": {
      "text/plain": [
       "'yrtnuoc tsav a si aidnI'"
      ]
     },
     "execution_count": 16,
     "metadata": {},
     "output_type": "execute_result"
    }
   ],
   "source": [
    "def str(sent):\n",
    "    for i in sent:\n",
    "        txt=sent[::-1]\n",
    "    return txt\n",
    "\n",
    "str(\"India is a vast country\")  \n",
    "    \n"
   ]
  },
  {
   "cell_type": "code",
   "execution_count": 22,
   "id": "2917431e",
   "metadata": {},
   "outputs": [
    {
     "name": "stdout",
     "output_type": "stream",
     "text": [
      "b is greater\n"
     ]
    }
   ],
   "source": [
    "def max_num(a,b,c):\n",
    "\n",
    "        if a>b and a>c:\n",
    "            print(\"a is greater\")\n",
    "        elif b>a and b>c:\n",
    "            print(\"b is greater\")   \n",
    "        else:\n",
    "            print(\"c is greater\") \n",
    "\n",
    "max_num(20,50,10)\n",
    "\n"
   ]
  },
  {
   "cell_type": "code",
   "execution_count": 38,
   "id": "e8f598a3",
   "metadata": {},
   "outputs": [
    {
     "name": "stdout",
     "output_type": "stream",
     "text": [
      " Hello World\n"
     ]
    }
   ],
   "source": [
    "# function to join a list of strings in to a single string\n",
    "\n",
    "def join_list(list1):\n",
    "    result=\" \"\n",
    "    for i in list1:\n",
    "        result+=i\n",
    "    return result\n",
    "    \n",
    "print(join_list([\"Hello\",\" \",\"World\"]))\n",
    "\n",
    "\n"
   ]
  },
  {
   "cell_type": "code",
   "execution_count": 66,
   "id": "60fe6551",
   "metadata": {},
   "outputs": [
    {
     "name": "stdout",
     "output_type": "stream",
     "text": [
      "90\n"
     ]
    }
   ],
   "source": [
    "# function to multiply all numbers in a list and return final product\n",
    "\n",
    "def mul_num(num1):\n",
    "    result=3\n",
    "    for i in num1:\n",
    "        result=result*i\n",
    "    return result\n",
    "\n",
    "print(mul_num([5,2,3]))    \n",
    "        "
   ]
  },
  {
   "cell_type": "code",
   "execution_count": 75,
   "id": "ce750df9",
   "metadata": {},
   "outputs": [
    {
     "name": "stdout",
     "output_type": "stream",
     "text": [
      "[12, 20, 15, 40]\n"
     ]
    }
   ],
   "source": [
    "# function which takes a list of numbers and returns a newlist in numbers greater than 10\n",
    "\n",
    "def num_list(list1):\n",
    "    new_list=[]\n",
    "    for i in list1:\n",
    "        if i>10:\n",
    "            new_list.append(i)\n",
    "        \n",
    "    return new_list\n",
    "\n",
    "print(num_list([12,0,20,15,5,40]))\n"
   ]
  },
  {
   "cell_type": "code",
   "execution_count": 81,
   "id": "6eddb40a",
   "metadata": {},
   "outputs": [
    {
     "name": "stdout",
     "output_type": "stream",
     "text": [
      "True\n"
     ]
    }
   ],
   "source": [
    "# function to check two words are anagrams\n",
    "\n",
    "def words(str1,str2):\n",
    "    return sorted(str1)==sorted(str2)\n",
    "\n",
    "print(words(\"listen\",\"silent\"))\n",
    "\n",
    "    "
   ]
  },
  {
   "cell_type": "code",
   "execution_count": 4,
   "id": "edaf7ce3",
   "metadata": {},
   "outputs": [
    {
     "data": {
      "text/plain": [
       "True"
      ]
     },
     "execution_count": 4,
     "metadata": {},
     "output_type": "execute_result"
    }
   ],
   "source": [
    "# function to check word is an isogram\n",
    "\n",
    "def wrd_isogram(word):\n",
    "        for i in word:\n",
    "                if word.count(i)>1:                    \n",
    "                    return False\n",
    "        return True\n",
    "wrd_isogram(\"Machine\")\n",
    "    \n",
    "    \n",
    "    \n",
    "\n",
    "            \n"
   ]
  },
  {
   "cell_type": "code",
   "execution_count": 1,
   "id": "02572774",
   "metadata": {},
   "outputs": [
    {
     "name": "stdout",
     "output_type": "stream",
     "text": [
      "Palindrome\n"
     ]
    }
   ],
   "source": [
    "def palindrome(sent):\n",
    "    if sent==sent[::-1]:\n",
    "        print(\"Palindrome\")\n",
    "    else:\n",
    "        print(\"Not a Palindrome\")\n",
    "\n",
    "\n",
    "palindrome(\"malayalam\")"
   ]
  }
 ],
 "metadata": {
  "kernelspec": {
   "display_name": "Python 3",
   "language": "python",
   "name": "python3"
  },
  "language_info": {
   "codemirror_mode": {
    "name": "ipython",
    "version": 3
   },
   "file_extension": ".py",
   "mimetype": "text/x-python",
   "name": "python",
   "nbconvert_exporter": "python",
   "pygments_lexer": "ipython3",
   "version": "3.13.5"
  }
 },
 "nbformat": 4,
 "nbformat_minor": 5
}
