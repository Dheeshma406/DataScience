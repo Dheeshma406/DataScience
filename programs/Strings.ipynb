{
 "cells": [
  {
   "cell_type": "code",
   "execution_count": null,
   "id": "f217b511",
   "metadata": {},
   "outputs": [
    {
     "name": "stdout",
     "output_type": "stream",
     "text": [
      "12\n"
     ]
    }
   ],
   "source": [
    "# Use the length method\n",
    "a=\"Learn python\"\n",
    "print(len(a))\n"
   ]
  },
  {
   "cell_type": "code",
   "execution_count": null,
   "id": "9aab0457",
   "metadata": {},
   "outputs": [
    {
     "name": "stdout",
     "output_type": "stream",
     "text": [
      "p\n"
     ]
    }
   ],
   "source": [
    "# Index starts with 0\n",
    "a=\"python\"\n",
    "print(a[0])"
   ]
  },
  {
   "cell_type": "code",
   "execution_count": 49,
   "id": "8ac3fe90",
   "metadata": {},
   "outputs": [
    {
     "name": "stdout",
     "output_type": "stream",
     "text": [
      "16\n",
      "i\n",
      "C\n",
      "t\n",
      "c\n",
      "pute\n"
     ]
    }
   ],
   "source": [
    "string=\"Computer Science\"\n",
    "print(len(string))    # Length of the string\n",
    "print(str[-5])\n",
    "print(str[0])      # Prints first character of string Index starts from 0\n",
    "print(str[5])\n",
    "print(str[-2])\n",
    "print(str[3:7])    # Print string from 3rd index to 6th index value\n",
    "\n",
    "\n",
    "  "
   ]
  },
  {
   "cell_type": "code",
   "execution_count": 3,
   "id": "3a2e46bd",
   "metadata": {},
   "outputs": [
    {
     "data": {
      "text/plain": [
       "'\\nIndia is my country\\nAll Indians are my brothers and sisters\\nI love my country\\n\\n'"
      ]
     },
     "execution_count": 3,
     "metadata": {},
     "output_type": "execute_result"
    }
   ],
   "source": [
    "# Multiline comments\n",
    "\"\"\"\n",
    "India is my country\n",
    "All Indians are my brothers and sisters\n",
    "I love my country\n",
    "\n",
    "\"\"\""
   ]
  },
  {
   "cell_type": "code",
   "execution_count": 36,
   "id": "b63ccc70",
   "metadata": {},
   "outputs": [
    {
     "name": "stdout",
     "output_type": "stream",
     "text": [
      "u\n",
      "put\n",
      "en\n",
      "eirp\n",
      "up\n",
      "Computer Science\n",
      "ecneicS retupmoC\n"
     ]
    }
   ],
   "source": [
    "# String Slicing\n",
    "\n",
    "string=\"Computer Science\"\n",
    "print(str[4])\n",
    "print(string[3:6])\n",
    "print(string[-4:-2])\n",
    "print(string[::-4])    # Every 4th position print backwards\n",
    "print(string[4:2:-1])  # Backward steps with slicing\n",
    "print(str[::])\n",
    "print(str[::-1])    # Reverse the string"
   ]
  },
  {
   "cell_type": "code",
   "execution_count": null,
   "id": "07eb8e3c",
   "metadata": {},
   "outputs": [],
   "source": [
    "del str  # delete the variable"
   ]
  },
  {
   "cell_type": "code",
   "execution_count": 53,
   "id": "9fc65622",
   "metadata": {},
   "outputs": [
    {
     "name": "stdout",
     "output_type": "stream",
     "text": [
      "Hello World\n",
      "Hello3World\n"
     ]
    }
   ],
   "source": [
    "Str1=\"Hello\"\n",
    "Str2=\"World\"\n",
    "print(Str1 +\" \"+Str2)\n",
    "num=3\n",
    "print(Str1+str(num)+Str2)\n",
    "\n"
   ]
  },
  {
   "cell_type": "code",
   "execution_count": null,
   "id": "a3d802b5",
   "metadata": {},
   "outputs": [
    {
     "data": {
      "text/plain": [
       "12"
      ]
     },
     "execution_count": 41,
     "metadata": {},
     "output_type": "execute_result"
    }
   ],
   "source": [
    "String=\"Data Science\"\n",
    "len(String)            # Length of the string\n"
   ]
  },
  {
   "cell_type": "code",
   "execution_count": null,
   "id": "a4447598",
   "metadata": {},
   "outputs": [
    {
     "data": {
      "text/plain": [
       "'DATA SCIENCE'"
      ]
     },
     "execution_count": 42,
     "metadata": {},
     "output_type": "execute_result"
    }
   ],
   "source": [
    "String=\"Data Science\"\n",
    "String.upper()"
   ]
  },
  {
   "cell_type": "code",
   "execution_count": 1,
   "id": "08de5cdf",
   "metadata": {},
   "outputs": [
    {
     "data": {
      "text/plain": [
       "'data science'"
      ]
     },
     "execution_count": 1,
     "metadata": {},
     "output_type": "execute_result"
    }
   ],
   "source": [
    "String=\"Data Science\"\n",
    "String.lower()"
   ]
  },
  {
   "cell_type": "code",
   "execution_count": 3,
   "id": "b8c9958e",
   "metadata": {},
   "outputs": [
    {
     "data": {
      "text/plain": [
       "'Daja Science'"
      ]
     },
     "execution_count": 3,
     "metadata": {},
     "output_type": "execute_result"
    }
   ],
   "source": [
    "String=\"Data Science\"\n",
    "String.replace(\"t\",\"j\") # Replace the letter"
   ]
  },
  {
   "cell_type": "code",
   "execution_count": 56,
   "id": "f2c7d96f",
   "metadata": {},
   "outputs": [
    {
     "name": "stdout",
     "output_type": "stream",
     "text": [
      "7\n",
      "2\n"
     ]
    }
   ],
   "source": [
    "a=\"Data Science\"\n",
    "print(a.find(\"i\"))            # Find the value\n",
    "print(a.find(\"t\"))"
   ]
  }
 ],
 "metadata": {
  "kernelspec": {
   "display_name": "Python 3",
   "language": "python",
   "name": "python3"
  },
  "language_info": {
   "codemirror_mode": {
    "name": "ipython",
    "version": 3
   },
   "file_extension": ".py",
   "mimetype": "text/x-python",
   "name": "python",
   "nbconvert_exporter": "python",
   "pygments_lexer": "ipython3",
   "version": "3.13.5"
  }
 },
 "nbformat": 4,
 "nbformat_minor": 5
}
