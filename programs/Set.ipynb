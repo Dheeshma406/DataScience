{
 "cells": [
  {
   "cell_type": "code",
   "execution_count": null,
   "id": "18008f9a",
   "metadata": {},
   "outputs": [
    {
     "name": "stdout",
     "output_type": "stream",
     "text": [
      "{'potato', 2, 9, 'tomato', 'onion'}\n",
      "{'potato', 2, 'carrot', 9, 'tomato', 'onion'}\n"
     ]
    }
   ],
   "source": [
    "set={'onion','tomato','potato',2,9}\n",
    "print(set)\n",
    "set.add('carrot')   # Add method\n",
    "print(set)"
   ]
  },
  {
   "cell_type": "code",
   "execution_count": 13,
   "id": "dfe63cf6",
   "metadata": {},
   "outputs": [
    {
     "name": "stdout",
     "output_type": "stream",
     "text": [
      "{'potato', 'chilly', 'cabbage', 'tomato', 'onion', 'brinjal'}\n"
     ]
    }
   ],
   "source": [
    "# Update\n",
    "set1={'onion','tomato','potato'}\n",
    "set1.update(['cabbage','brinjal','chilly'])\n",
    "print(set1)"
   ]
  },
  {
   "cell_type": "code",
   "execution_count": 14,
   "id": "d31c0a96",
   "metadata": {},
   "outputs": [
    {
     "name": "stdout",
     "output_type": "stream",
     "text": [
      "{'potato', 'chilly', 'cabbage', 'onion', 'brinjal'}\n"
     ]
    }
   ],
   "source": [
    "# Remove\n",
    "set1.remove('tomato')\n",
    "print(set1)"
   ]
  },
  {
   "cell_type": "code",
   "execution_count": 15,
   "id": "23b875b3",
   "metadata": {},
   "outputs": [
    {
     "data": {
      "text/plain": [
       "{0, 2, 8, 9, 10, 55, 92, 100}"
      ]
     },
     "execution_count": 15,
     "metadata": {},
     "output_type": "execute_result"
    }
   ],
   "source": [
    "# union\n",
    "a={2,8,10,55,92}\n",
    "b={9,2,0,100}\n",
    "a|b"
   ]
  },
  {
   "cell_type": "code",
   "execution_count": 17,
   "id": "aa929b1a",
   "metadata": {},
   "outputs": [
    {
     "data": {
      "text/plain": [
       "{10, 'sam'}"
      ]
     },
     "execution_count": 17,
     "metadata": {},
     "output_type": "execute_result"
    }
   ],
   "source": [
    "# Intersection\n",
    "emp={'sam','abi',4,10,'anju'}\n",
    "emp1={'anu',10,'sai','true','sam'}\n",
    "emp&emp1"
   ]
  },
  {
   "cell_type": "code",
   "execution_count": 3,
   "id": "3cf6134c",
   "metadata": {},
   "outputs": [
    {
     "data": {
      "text/plain": [
       "{'anu', 'sai', 'true'}"
      ]
     },
     "execution_count": 3,
     "metadata": {},
     "output_type": "execute_result"
    }
   ],
   "source": [
    "# difference\n",
    "emp={'sam','abi',4,10,'anju'}\n",
    "emp1={'anu',10,'sai','true','sam'}\n",
    "emp.difference(emp1)\n",
    "emp1.difference(emp)\n"
   ]
  },
  {
   "cell_type": "code",
   "execution_count": 20,
   "id": "d6558bcb",
   "metadata": {},
   "outputs": [
    {
     "data": {
      "text/plain": [
       "{4, 'abi', 'anju', 'anu', 'sai', 'true'}"
      ]
     },
     "execution_count": 20,
     "metadata": {},
     "output_type": "execute_result"
    }
   ],
   "source": [
    "# Symmetric difference\n",
    "emp^emp1"
   ]
  }
 ],
 "metadata": {
  "kernelspec": {
   "display_name": "Python 3",
   "language": "python",
   "name": "python3"
  },
  "language_info": {
   "codemirror_mode": {
    "name": "ipython",
    "version": 3
   },
   "file_extension": ".py",
   "mimetype": "text/x-python",
   "name": "python",
   "nbconvert_exporter": "python",
   "pygments_lexer": "ipython3",
   "version": "3.13.5"
  }
 },
 "nbformat": 4,
 "nbformat_minor": 5
}
