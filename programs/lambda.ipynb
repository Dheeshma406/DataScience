{
 "cells": [
  {
   "cell_type": "code",
   "execution_count": 1,
   "id": "07cad6fe",
   "metadata": {},
   "outputs": [
    {
     "name": "stdout",
     "output_type": "stream",
     "text": [
      "7\n"
     ]
    }
   ],
   "source": [
    "# Lambda Function\n",
    "\n",
    "add=lambda x,y:x+y\n",
    "print(add(5,2))"
   ]
  },
  {
   "cell_type": "code",
   "execution_count": 2,
   "id": "44f50855",
   "metadata": {},
   "outputs": [
    {
     "name": "stdout",
     "output_type": "stream",
     "text": [
      "6\n"
     ]
    }
   ],
   "source": [
    "mul=lambda x,y:x*y\n",
    "print(mul(2,3))"
   ]
  },
  {
   "cell_type": "code",
   "execution_count": 3,
   "id": "31d5f795",
   "metadata": {},
   "outputs": [
    {
     "name": "stdout",
     "output_type": "stream",
     "text": [
      "Even\n"
     ]
    }
   ],
   "source": [
    "x=lambda x :\"Even\" if x%2==0 else \"odd\"\n",
    "print(x(4))"
   ]
  },
  {
   "cell_type": "code",
   "execution_count": null,
   "id": "ce59ac5a",
   "metadata": {},
   "outputs": [
    {
     "name": "stdout",
     "output_type": "stream",
     "text": [
      "[('ani', 10), ('sam', 20), ('jikku', 90)]\n"
     ]
    }
   ],
   "source": [
    "students=[(\"sam\",20),(\"ani\",10),(\"jikku\",90)]\n",
    "print(sorted(students,key=lambda x:x[1]))\n",
    "#print(new_list)"
   ]
  },
  {
   "cell_type": "code",
   "execution_count": 1,
   "id": "7f6c2a0f",
   "metadata": {},
   "outputs": [
    {
     "name": "stdout",
     "output_type": "stream",
     "text": [
      "Your age is: 20\n",
      "eligible \n"
     ]
    }
   ],
   "source": [
    "try:\n",
    "    a=input(\"Enter your age\")\n",
    "except: \n",
    "    print(\"Invalid error\")\n",
    "\n",
    "else:\n",
    "    print(\"Your age is:\",a)\n",
    "finally:\n",
    "    print(\"eligible \")\n",
    "\n",
    "\n",
    "    \n",
    "    "
   ]
  },
  {
   "cell_type": "code",
   "execution_count": 2,
   "id": "6c1f77ae",
   "metadata": {},
   "outputs": [
    {
     "name": "stdout",
     "output_type": "stream",
     "text": [
      "25\n"
     ]
    }
   ],
   "source": [
    "# square function takes single number as input and returns square.\n",
    "\n",
    "sqr=lambda x:x**2\n",
    "print(sqr(5))"
   ]
  },
  {
   "cell_type": "code",
   "execution_count": 3,
   "id": "484a1f93",
   "metadata": {},
   "outputs": [
    {
     "name": "stdout",
     "output_type": "stream",
     "text": [
      "7\n"
     ]
    }
   ],
   "source": [
    "# Add 2 numbers as input and return their sum\n",
    "\n",
    "sum=lambda x,y:x+y\n",
    "print(sum(5,2))"
   ]
  },
  {
   "cell_type": "code",
   "execution_count": 9,
   "id": "4bb1ca6e",
   "metadata": {},
   "outputs": [
    {
     "name": "stdout",
     "output_type": "stream",
     "text": [
      "Even\n",
      "Odd\n"
     ]
    }
   ],
   "source": [
    "# Even or Odd\n",
    "\n",
    "num=lambda x:\"Even\" if x%2==0 else \"Odd\"\n",
    "print(num(4))\n",
    "print(num(7))"
   ]
  },
  {
   "cell_type": "code",
   "execution_count": 14,
   "id": "e8b37cfa",
   "metadata": {},
   "outputs": [
    {
     "name": "stdout",
     "output_type": "stream",
     "text": [
      "[['Amal', 20], ['Nainu', 27], ['Binija', 35], ['Sam', 50]]\n"
     ]
    }
   ],
   "source": [
    "emp=([\"Amal\",20],[\"Sam\",50],[\"Binija\",35],[\"Nainu\",27])\n",
    "print(sorted(emp,key=lambda a:a[1]))\n",
    "\n",
    "\n"
   ]
  },
  {
   "cell_type": "code",
   "execution_count": 20,
   "id": "8e9a36b8",
   "metadata": {},
   "outputs": [
    {
     "name": "stdout",
     "output_type": "stream",
     "text": [
      "[20, 15, 35, 90]\n"
     ]
    }
   ],
   "source": [
    "num=[20,2,0,15,35,7,90]\n",
    "result=list(filter(lambda x:x>10,num))\n",
    "print(result)\n",
    "\n"
   ]
  },
  {
   "cell_type": "code",
   "execution_count": 23,
   "id": "9ad77473",
   "metadata": {},
   "outputs": [
    {
     "name": "stdout",
     "output_type": "stream",
     "text": [
      "['HELLO', 'WORLD', 'HI', 'GOOD']\n"
     ]
    }
   ],
   "source": [
    "str=[\"hello\",\"world\",\"hi\",\"good\"]\n",
    "result=list(map(lambda x:x.upper(),str))\n",
    "print(result)"
   ]
  },
  {
   "cell_type": "code",
   "execution_count": null,
   "id": "4c73a98e",
   "metadata": {},
   "outputs": [
    {
     "name": "stdout",
     "output_type": "stream",
     "text": [
      "40\n"
     ]
    }
   ],
   "source": [
    "#maximum of 2 numbers\n",
    "max_num=lambda x,y:x if x>y else y\n",
    "print(max_num(20,40))\n"
   ]
  },
  {
   "cell_type": "code",
   "execution_count": null,
   "id": "b48e2e01",
   "metadata": {},
   "outputs": [
    {
     "name": "stdout",
     "output_type": "stream",
     "text": [
      "[9, 18, 0, 24]\n"
     ]
    }
   ],
   "source": [
    "# filter the numbers divisible by 3\n",
    "nums=[2,9,10,18,0,24]\n",
    "mul_num=list(filter(lambda x:x%3==0,nums))\n",
    "print(mul_num)"
   ]
  },
  {
   "cell_type": "code",
   "execution_count": 32,
   "id": "664fb12b",
   "metadata": {},
   "outputs": [
    {
     "name": "stdout",
     "output_type": "stream",
     "text": [
      "['apple', 'orange']\n"
     ]
    }
   ],
   "source": [
    "# filter strings starts with a vowel\n",
    "st=[\"apple\",\"banana\",\"orange\",\"grapes\"]\n",
    "new_st=list(filter(lambda x:x[0] in \"aeiou\",st))\n",
    "print(new_st)\n"
   ]
  },
  {
   "cell_type": "code",
   "execution_count": 39,
   "id": "cffe076e",
   "metadata": {},
   "outputs": [
    {
     "name": "stdout",
     "output_type": "stream",
     "text": [
      "['A', 'O', 'B', 'G']\n"
     ]
    }
   ],
   "source": [
    "# First character of each word\n",
    "word=['Apple','Orange','Banana','Grapes']\n",
    "new_word=list(map(lambda x:x[0],word))\n",
    "print(new_word)"
   ]
  },
  {
   "cell_type": "code",
   "execution_count": 1,
   "id": "23197813",
   "metadata": {},
   "outputs": [
    {
     "name": "stdout",
     "output_type": "stream",
     "text": [
      "['0', '2', '3', '5', '9', '20']\n"
     ]
    }
   ],
   "source": [
    "# convert integer to strings\n",
    "vari=[0,2,3,5,9,20]\n",
    "output_list=list(map(lambda x:str(x),vari))\n",
    "print(output_list)\n"
   ]
  }
 ],
 "metadata": {
  "kernelspec": {
   "display_name": "Python 3",
   "language": "python",
   "name": "python3"
  },
  "language_info": {
   "codemirror_mode": {
    "name": "ipython",
    "version": 3
   },
   "file_extension": ".py",
   "mimetype": "text/x-python",
   "name": "python",
   "nbconvert_exporter": "python",
   "pygments_lexer": "ipython3",
   "version": "3.13.5"
  }
 },
 "nbformat": 4,
 "nbformat_minor": 5
}
