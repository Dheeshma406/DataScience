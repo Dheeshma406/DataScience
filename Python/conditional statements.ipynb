{
 "cells": [
  {
   "cell_type": "code",
   "execution_count": 6,
   "id": "c9517709",
   "metadata": {},
   "outputs": [
    {
     "name": "stdout",
     "output_type": "stream",
     "text": [
      "the number is even\n"
     ]
    }
   ],
   "source": [
    "num=int(input(\"enter a number:\"))\n",
    "if num%2==0:\n",
    "    print(\"the number is even\")\n",
    "else:\n",
    "    print(\"the number is odd\")"
   ]
  },
  {
   "cell_type": "code",
   "execution_count": 8,
   "id": "85384a5b",
   "metadata": {},
   "outputs": [
    {
     "name": "stdout",
     "output_type": "stream",
     "text": [
      "negative\n"
     ]
    }
   ],
   "source": [
    "num=5\n",
    "if num>10:\n",
    "    print('positive')\n",
    "else:\n",
    "    print('negative') \n"
   ]
  },
  {
   "cell_type": "code",
   "execution_count": 38,
   "id": "1d39e0da",
   "metadata": {},
   "outputs": [
    {
     "name": "stdout",
     "output_type": "stream",
     "text": [
      "eligible\n"
     ]
    }
   ],
   "source": [
    "num=20\n",
    "if num>10:\n",
    "    print(\"eligible\")\n",
    "elif num<10:\n",
    "    print(\"not eligible\") \n",
    "else:\n",
    "    print(\"error\")    \n",
    "\n",
    "\n",
    "\n"
   ]
  },
  {
   "cell_type": "code",
   "execution_count": 11,
   "id": "e3db0b91",
   "metadata": {},
   "outputs": [
    {
     "name": "stdout",
     "output_type": "stream",
     "text": [
      "login successful\n"
     ]
    }
   ],
   "source": [
    "username=\"anu\"\n",
    "password=2025\n",
    "if username==\"anu\":\n",
    "    if password==2025:\n",
    "        print(\"login successful\")\n",
    "    else:\n",
    "        print(\"not successful\")\n",
    "else:\n",
    "    print(\"unknown\")     \n",
    "    \n"
   ]
  },
  {
   "cell_type": "code",
   "execution_count": 12,
   "id": "ce8c3f3a",
   "metadata": {},
   "outputs": [
    {
     "name": "stdout",
     "output_type": "stream",
     "text": [
      "positive and even\n"
     ]
    }
   ],
   "source": [
    "a=int(input(\"enter a number\"))\n",
    "if a>10 & a%2==0:\n",
    "    print(\"positive and even\")\n",
    "else:\n",
    "    print(\"negative and odd\")\n"
   ]
  },
  {
   "cell_type": "code",
   "execution_count": 17,
   "id": "a944154f",
   "metadata": {},
   "outputs": [
    {
     "name": "stdout",
     "output_type": "stream",
     "text": [
      "m\n",
      "u\n",
      "j\n",
      "y\n"
     ]
    }
   ],
   "source": [
    "list=['sam','anu','anju','diya']\n",
    "for i in list:\n",
    "    print(i[2])"
   ]
  },
  {
   "cell_type": "code",
   "execution_count": 16,
   "id": "f978cb04",
   "metadata": {},
   "outputs": [
    {
     "name": "stdout",
     "output_type": "stream",
     "text": [
      "mas\n",
      "una\n",
      "ujna\n",
      "ayid\n"
     ]
    }
   ],
   "source": [
    "for i in list:\n",
    "    print(i[::-1])\n",
    "  "
   ]
  },
  {
   "cell_type": "code",
   "execution_count": 3,
   "id": "1b4210f0",
   "metadata": {},
   "outputs": [
    {
     "name": "stdout",
     "output_type": "stream",
     "text": [
      "positive number\n"
     ]
    }
   ],
   "source": [
    "# Check if the number is positive,neg,or zero\n",
    "\n",
    "a=5\n",
    "if a<10:\n",
    "    print(\"positive number\")\n",
    "elif a>10:\n",
    "    print(\"negative\")\n",
    "else:\n",
    "    print(\"zero\")"
   ]
  },
  {
   "cell_type": "code",
   "execution_count": 4,
   "id": "372f090b",
   "metadata": {},
   "outputs": [
    {
     "name": "stdout",
     "output_type": "stream",
     "text": [
      "odd number\n"
     ]
    }
   ],
   "source": [
    "# check if the number is even or odd\n",
    "\n",
    "a=3\n",
    "if a%2==0:\n",
    "    print(\"even number\")\n",
    "else:\n",
    "    print(\"odd number\")"
   ]
  },
  {
   "cell_type": "code",
   "execution_count": 7,
   "id": "ef3d35ad",
   "metadata": {},
   "outputs": [
    {
     "name": "stdout",
     "output_type": "stream",
     "text": [
      "b is greater\n"
     ]
    }
   ],
   "source": [
    "# find the largest of two numbers\n",
    "\n",
    "a=5\n",
    "b=10\n",
    "if a>b:\n",
    "    print(\"a is greater\")\n",
    "else:\n",
    "     \n",
    "    print(\"b is greater\")\n",
    "\n",
    " "
   ]
  },
  {
   "cell_type": "code",
   "execution_count": 12,
   "id": "4c9e3478",
   "metadata": {},
   "outputs": [
    {
     "name": "stdout",
     "output_type": "stream",
     "text": [
      "c is larger\n"
     ]
    }
   ],
   "source": [
    "# find the largest of three numbers\n",
    "\n",
    "a=10\n",
    "b=5\n",
    "c=20\n",
    "if a>=b and a>=c:\n",
    "    print(\"a is larger\")\n",
    "elif b>=a and b>=c:\n",
    "    print(\"b is larger\")    \n",
    "else:\n",
    "    print(\"c is larger\")"
   ]
  },
  {
   "cell_type": "code",
   "execution_count": 13,
   "id": "33d2fc2a",
   "metadata": {},
   "outputs": [
    {
     "name": "stdout",
     "output_type": "stream",
     "text": [
      "Eligible to vote\n"
     ]
    }
   ],
   "source": [
    "# Eligible to vote\n",
    "\n",
    "age=20\n",
    "if age>=18:\n",
    "    print(\"Eligible to vote\")\n",
    "else:\n",
    "    print(\"Not eligible\")\n",
    "\n",
    "\n"
   ]
  },
  {
   "cell_type": "code",
   "execution_count": 14,
   "id": "840b34d9",
   "metadata": {},
   "outputs": [
    {
     "name": "stdout",
     "output_type": "stream",
     "text": [
      "a is lower case\n"
     ]
    }
   ],
   "source": [
    "# Check whether a character is uppercase,lowercase,digit or special character\n",
    "\n",
    "a=\"python\"\n",
    "if a.isupper():\n",
    "    print(\"a is uppercase\")\n",
    "elif a.islower():\n",
    "    print(\"a is lower case\")\n",
    "elif a.isdigit():\n",
    "    print(\"a is digit\")\n",
    "else:\n",
    "    print(\"special character\")    \n",
    "\n"
   ]
  },
  {
   "cell_type": "code",
   "execution_count": 15,
   "id": "4dcf5cd3",
   "metadata": {},
   "outputs": [
    {
     "name": "stdout",
     "output_type": "stream",
     "text": [
      "valid traingle\n"
     ]
    }
   ],
   "source": [
    "# Valid triangle by angles\n",
    "\n",
    "a =40\n",
    "b=70\n",
    "c=70\n",
    "if a+b+c==180:\n",
    "    print(\"valid traingle\")\n",
    "else:\n",
    "    print(\"Invalid traingle\")"
   ]
  },
  {
   "cell_type": "code",
   "execution_count": 16,
   "id": "b92a7415",
   "metadata": {},
   "outputs": [
    {
     "name": "stdout",
     "output_type": "stream",
     "text": [
      "Isoceles\n"
     ]
    }
   ],
   "source": [
    "# Classify the triangle as equilateral,isoceles or scalene\n",
    "\n",
    "a=20\n",
    "b=30\n",
    "c=20\n",
    "if a==b==c:\n",
    "    print(\"Equilateral\") \n",
    "elif a==b or b==c or a==c:\n",
    "    print(\"Isoceles\")  \n",
    "else:\n",
    "    print(\"Scalene\")      "
   ]
  },
  {
   "cell_type": "code",
   "execution_count": 24,
   "id": "be6849f2",
   "metadata": {},
   "outputs": [
    {
     "name": "stdout",
     "output_type": "stream",
     "text": [
      "Palindrome\n"
     ]
    }
   ],
   "source": [
    "# Check if a number is palindrome \n",
    " \n",
    "a=\"121\"\n",
    "if str(a) == str(a)[::-1]:   # if the string is integer u have to convert in to string using slicing concept\n",
    "                                          \n",
    "    print(\"Palindrome\")\n",
    "else:\n",
    "    print(\"Not palindrome\")\n"
   ]
  },
  {
   "cell_type": "code",
   "execution_count": 31,
   "id": "58a3fffc",
   "metadata": {},
   "outputs": [
    {
     "name": "stdout",
     "output_type": "stream",
     "text": [
      "230\n",
      "76.66666666666667\n",
      "Pass\n"
     ]
    }
   ],
   "source": [
    "# Take 3 sub marks & calculate total,average,and result(pass/fail)\n",
    "\n",
    "mark1=60\n",
    "mark2=80\n",
    "mark3=90\n",
    "total=mark1+mark2+mark3\n",
    "average=total/3\n",
    "print(total)\n",
    "print(average)\n",
    "if mark1>=50 and mark2>=50 and mark3>=50:\n",
    "    print(\"Pass\")\n",
    "else:\n",
    "    print(\"fail\")\n",
    "\n",
    "\n"
   ]
  },
  {
   "cell_type": "code",
   "execution_count": 32,
   "id": "7e0b5145",
   "metadata": {},
   "outputs": [
    {
     "name": "stdout",
     "output_type": "stream",
     "text": [
      "Equal\n"
     ]
    }
   ],
   "source": [
    "# check two numbers are equal or not\n",
    "a=5\n",
    "if a>=3:\n",
    "    print(\"Equal\")\n",
    "else:\n",
    "    print(\"Not Equal\")\n",
    "\n"
   ]
  },
  {
   "cell_type": "code",
   "execution_count": 36,
   "id": "3cea0bbc",
   "metadata": {},
   "outputs": [
    {
     "name": "stdout",
     "output_type": "stream",
     "text": [
      "Friday\n"
     ]
    }
   ],
   "source": [
    "# print the day of the week\n",
    "day=int(input(\"enter the days of the week (1-7):\"))\n",
    "if day==1:\n",
    "    print(\"Monday\")\n",
    "elif day==2:\n",
    "    print(\"Tuesday\")\n",
    "elif day==3:\n",
    "    print(\"Wednesday\") \n",
    "elif day==4:\n",
    "    print(\"Thursday\")\n",
    "elif day==5:\n",
    "    print(\"Friday\")\n",
    "elif day==6:\n",
    "    print(\"saturday\")\n",
    "elif day==7:\n",
    "    print(\"Sunday\")\n",
    "else:\n",
    "    print(\"Invalid day\")\n"
   ]
  }
 ],
 "metadata": {
  "kernelspec": {
   "display_name": "Python 3",
   "language": "python",
   "name": "python3"
  },
  "language_info": {
   "codemirror_mode": {
    "name": "ipython",
    "version": 3
   },
   "file_extension": ".py",
   "mimetype": "text/x-python",
   "name": "python",
   "nbconvert_exporter": "python",
   "pygments_lexer": "ipython3",
   "version": "3.13.5"
  }
 },
 "nbformat": 4,
 "nbformat_minor": 5
}
