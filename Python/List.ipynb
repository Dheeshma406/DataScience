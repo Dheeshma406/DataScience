{
 "cells": [
  {
   "cell_type": "code",
   "execution_count": 10,
   "id": "7129bc69",
   "metadata": {},
   "outputs": [
    {
     "name": "stdout",
     "output_type": "stream",
     "text": [
      "[1, 'Tomato', 'Orange', 'True', 4]\n",
      "<class 'list'>\n",
      "Orange\n",
      "[1, 'Tomato']\n",
      "[1, 'Tomato', 'Orange', 'True']\n",
      "[4]\n",
      "True\n"
     ]
    }
   ],
   "source": [
    "list=[1,'Tomato','Orange','True',4]\n",
    "print(list)\n",
    "print(type(list))\n",
    "print(list[2])\n",
    "print(list[0:2])\n",
    "print(list[:4])\n",
    "print(list[4:])\n",
    "print(list[-2])"
   ]
  },
  {
   "cell_type": "code",
   "execution_count": null,
   "id": "121b2537",
   "metadata": {},
   "outputs": [
    {
     "name": "stdout",
     "output_type": "stream",
     "text": [
      "[3, 8, 'Orange', 0, 'Banana', 'Tomato', 15]\n",
      "Orange\n",
      "[3, 'Carrot', 'Orange', 0, 'Banana', 'Tomato', 15]\n"
     ]
    }
   ],
   "source": [
    "list1=[3,8,\"Orange\",0,\"Banana\",\"Tomato\",15]\n",
    "print(list1)\n",
    "print(list1[2])           # Access the particular value using index\n",
    "list1[1]=\"Carrot\"         # Index position    \n",
    "print(list1)"
   ]
  },
  {
   "cell_type": "code",
   "execution_count": 15,
   "id": "7589ff7e",
   "metadata": {},
   "outputs": [
    {
     "name": "stdout",
     "output_type": "stream",
     "text": [
      "[3, 8, 'orange', 0, 'banana', 'tomato', 15, 'Onion']\n"
     ]
    }
   ],
   "source": [
    "# Append Function\n",
    "list2=[3,8,'orange',0,'banana','tomato',15]\n",
    "list2.append(\"Onion\")\n",
    "print(list2)"
   ]
  },
  {
   "cell_type": "code",
   "execution_count": 9,
   "id": "ba6153fd",
   "metadata": {},
   "outputs": [
    {
     "name": "stdout",
     "output_type": "stream",
     "text": [
      "[3, 'Carrot', 'Orange', 'Cabbage', 0, 'Banana', 'Tomato', 15, 'Onion']\n"
     ]
    }
   ],
   "source": [
    "# Insert \n",
    "list1.insert(3,'Cabbage')\n",
    "print(list1)"
   ]
  },
  {
   "cell_type": "code",
   "execution_count": null,
   "id": "dc8b281d",
   "metadata": {},
   "outputs": [
    {
     "data": {
      "text/plain": [
       "[0, 1, 3, 5, 7, 15, 18]"
      ]
     },
     "execution_count": 14,
     "metadata": {},
     "output_type": "execute_result"
    }
   ],
   "source": [
    "# Sorted Function (Min to Max)\n",
    "my_list=[5,7,3,0,1,15,18]\n",
    "sorted(my_list)"
   ]
  },
  {
   "cell_type": "code",
   "execution_count": null,
   "id": "67ffa959",
   "metadata": {},
   "outputs": [
    {
     "name": "stdout",
     "output_type": "stream",
     "text": [
      "[3, 8, 'onion', 'cabbage', 1, 12, 'tomato', 'potato']\n"
     ]
    }
   ],
   "source": [
    "# Extend Function (Merging)\n",
    "\n",
    "a=[3,8,'onion','cabbage',1]\n",
    "b=[12,'tomato','potato']\n",
    "a.extend(b)\n",
    "print(a)"
   ]
  },
  {
   "cell_type": "code",
   "execution_count": 26,
   "id": "f1979c8a",
   "metadata": {},
   "outputs": [
    {
     "name": "stdout",
     "output_type": "stream",
     "text": [
      "23\n"
     ]
    }
   ],
   "source": [
    "# Sum function\n",
    "num=[5,9,2,6,0,1]\n",
    "total=sum(num)\n",
    "print(total)\n",
    " \n"
   ]
  },
  {
   "cell_type": "code",
   "execution_count": 42,
   "id": "618608c6",
   "metadata": {},
   "outputs": [
    {
     "name": "stdout",
     "output_type": "stream",
     "text": [
      "[20, 19, 28, 40, 32, 100, 55]\n"
     ]
    }
   ],
   "source": [
    "# Pop \n",
    "emp=[20,19,28,40,32,100,55,47]\n",
    "emp.pop()                # Last value will pop\n",
    "print(emp)"
   ]
  },
  {
   "cell_type": "code",
   "execution_count": 43,
   "id": "a470b330",
   "metadata": {},
   "outputs": [
    {
     "name": "stdout",
     "output_type": "stream",
     "text": [
      "[20, 19, 40, 32, 100, 55]\n"
     ]
    }
   ],
   "source": [
    "emp.pop(2)           # 2nd index value will pop \n",
    "print(emp)"
   ]
  },
  {
   "cell_type": "code",
   "execution_count": 44,
   "id": "232ac0dd",
   "metadata": {},
   "outputs": [
    {
     "name": "stdout",
     "output_type": "stream",
     "text": [
      "[20, 19, 40, 32, 100]\n"
     ]
    }
   ],
   "source": [
    "# remove\n",
    "emp.remove(55)\n",
    "print(emp)"
   ]
  },
  {
   "cell_type": "code",
   "execution_count": null,
   "id": "0819696c",
   "metadata": {},
   "outputs": [
    {
     "name": "stdout",
     "output_type": "stream",
     "text": [
      "[19, 20, 32, 40, 100]\n",
      "[100, 40, 32, 20, 19]\n"
     ]
    }
   ],
   "source": [
    "# Sort() Method\n",
    "emp.sort()\n",
    "print(emp)\n",
    "emp.sort(reverse=True)\n",
    "print(emp)"
   ]
  },
  {
   "cell_type": "code",
   "execution_count": 50,
   "id": "b0f7ada6",
   "metadata": {},
   "outputs": [
    {
     "name": "stdout",
     "output_type": "stream",
     "text": [
      "[3, 9, 1, 0, 7, [20, 2, 15], 5, 10]\n",
      "0\n",
      "[20, 2, 15]\n"
     ]
    }
   ],
   "source": [
    "# Nested List\n",
    "ex1=[3,9,1,0,7,[20,2,15],5,10]\n",
    "print(ex1)\n",
    "print(ex1[3])\n",
    "print(ex1[5])\n",
    "\n",
    "\n"
   ]
  },
  {
   "cell_type": "code",
   "execution_count": 3,
   "id": "c90918a7",
   "metadata": {},
   "outputs": [
    {
     "name": "stdout",
     "output_type": "stream",
     "text": [
      "['grape', 'apple', 'orange', 'papaya', 'watermelon']\n",
      "grape [3]\n",
      "['watermelon', 'papaya', 'orange', 'grape', 'apple']\n",
      "['banana', 'watermelon', 'papaya', 'orange', 'grape', 'apple']\n"
     ]
    }
   ],
   "source": [
    "fruit=['grape','apple','orange','papaya']\n",
    "fruit.append('watermelon')\n",
    "print(fruit)\n",
    "print(fruit[0],[3])\n",
    "fruit.sort(reverse=True)\n",
    "print(fruit)\n",
    "fruit.insert(0,'banana')\n",
    "print(fruit)"
   ]
  }
 ],
 "metadata": {
  "kernelspec": {
   "display_name": "Python 3",
   "language": "python",
   "name": "python3"
  },
  "language_info": {
   "codemirror_mode": {
    "name": "ipython",
    "version": 3
   },
   "file_extension": ".py",
   "mimetype": "text/x-python",
   "name": "python",
   "nbconvert_exporter": "python",
   "pygments_lexer": "ipython3",
   "version": "3.13.5"
  }
 },
 "nbformat": 4,
 "nbformat_minor": 5
}
