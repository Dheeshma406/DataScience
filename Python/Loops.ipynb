{
 "cells": [
  {
   "cell_type": "code",
   "execution_count": 3,
   "id": "2e75cfd7",
   "metadata": {},
   "outputs": [
    {
     "name": "stdout",
     "output_type": "stream",
     "text": [
      "m\n",
      "u\n",
      "j\n",
      "y\n"
     ]
    }
   ],
   "source": [
    "list=['sam','anu','anju','diya']\n",
    "for i in list:\n",
    "    print(i[2])"
   ]
  },
  {
   "cell_type": "code",
   "execution_count": 2,
   "id": "61974335",
   "metadata": {},
   "outputs": [
    {
     "name": "stdout",
     "output_type": "stream",
     "text": [
      "mas\n",
      "una\n",
      "ujna\n",
      "ayid\n"
     ]
    }
   ],
   "source": [
    "for i in list:\n",
    "    print(i[::-1])\n",
    "  "
   ]
  },
  {
   "cell_type": "code",
   "execution_count": null,
   "id": "97461c1b",
   "metadata": {},
   "outputs": [
    {
     "name": "stdout",
     "output_type": "stream",
     "text": [
      "m\n",
      "u\n",
      "ju\n",
      "ya\n"
     ]
    }
   ],
   "source": [
    "list=['sam','anu','anju','diya']\n",
    "for i in list:\n",
    "    print(i[2:])\n",
    "    "
   ]
  },
  {
   "cell_type": "code",
   "execution_count": 8,
   "id": "9ea626be",
   "metadata": {},
   "outputs": [
    {
     "name": "stdout",
     "output_type": "stream",
     "text": [
      "albert trebla\n",
      "srini inirs\n",
      "sam mas\n",
      "anu una\n",
      "divya ayvid\n"
     ]
    }
   ],
   "source": [
    "list1=['albert','srini','sam','anu','divya']\n",
    "for i in list1:\n",
    "    print(f\"{i} {i[::-1]}\")"
   ]
  },
  {
   "cell_type": "code",
   "execution_count": 14,
   "id": "5f4c088a",
   "metadata": {},
   "outputs": [
    {
     "name": "stdout",
     "output_type": "stream",
     "text": [
      "square of2 is 4\n",
      "square of3 is 9\n",
      "square of4 is 16\n",
      "square of5 is 25\n",
      "square of6 is 36\n",
      "square of7 is 49\n",
      "square of8 is 64\n",
      "[4, 9, 16, 25, 36, 49, 64]\n"
     ]
    }
   ],
   "source": [
    "num=[2,3,4,5,6,7,8]\n",
    "new_list=[]\n",
    "for i in num:\n",
    "    sqr=i**2\n",
    "    print(f\"square of{i} is {sqr}\")\n",
    "    new_list.append(sqr)\n",
    "print(new_list)\n",
    "\n",
    " "
   ]
  },
  {
   "cell_type": "code",
   "execution_count": null,
   "id": "a7cd3a8c",
   "metadata": {},
   "outputs": [
    {
     "name": "stdout",
     "output_type": "stream",
     "text": [
      "[4, 9, 16, 25, 36, 49, 64]\n",
      "{2: 4, 3: 9, 4: 16, 5: 25, 6: 36, 7: 49, 8: 64}\n"
     ]
    }
   ],
   "source": [
    "num=[2,3,4,5,6,7,8]\n",
    "print(new_list)\n",
    "list=dict(zip(num,new_list))\n",
    "print(list)\n"
   ]
  },
  {
   "cell_type": "code",
   "execution_count": 16,
   "id": "67e0f7ce",
   "metadata": {},
   "outputs": [
    {
     "name": "stdout",
     "output_type": "stream",
     "text": [
      "square of 2 is 4\n",
      "square of 4 is 16\n",
      "square of 6 is 36\n",
      "square of 8 is 64\n"
     ]
    }
   ],
   "source": [
    "num=[2,3,4,5,6,7,8]\n",
    "for i in num:\n",
    "    if i%2==0:\n",
    "        print(f'square of {i} is {i**2}')"
   ]
  },
  {
   "cell_type": "code",
   "execution_count": null,
   "id": "be86aa01",
   "metadata": {},
   "outputs": [
    {
     "name": "stdout",
     "output_type": "stream",
     "text": [
      "square of 1 is 1\n",
      "square of 3 is 9\n",
      "square of 5 is 25\n"
     ]
    }
   ],
   "source": [
    "new_list=[1,2,3,4,5,6,7,8]\n",
    "for i in range(1,7,2):\n",
    "    sqr=i**2\n",
    "    print(f'square of {i} is {sqr}')\n"
   ]
  },
  {
   "cell_type": "code",
   "execution_count": 22,
   "id": "15b851b6",
   "metadata": {},
   "outputs": [
    {
     "name": "stdout",
     "output_type": "stream",
     "text": [
      "hello\n",
      "hello\n",
      "hello\n",
      "hello\n",
      "hello\n"
     ]
    }
   ],
   "source": [
    "a=5\n",
    "while a<10:\n",
    "    print(\"hello\")\n",
    "    a=a+1\n",
    "\n"
   ]
  },
  {
   "cell_type": "code",
   "execution_count": 6,
   "id": "ade9d881",
   "metadata": {},
   "outputs": [
    {
     "name": "stdout",
     "output_type": "stream",
     "text": [
      "0\n",
      "1\n"
     ]
    }
   ],
   "source": [
    "a=0\n",
    "while a<5:\n",
    "    if a==2:\n",
    "        break\n",
    "    else:\n",
    "        print(a)\n",
    "        a+=1"
   ]
  },
  {
   "cell_type": "code",
   "execution_count": 6,
   "id": "0d0350a5",
   "metadata": {},
   "outputs": [
    {
     "name": "stdout",
     "output_type": "stream",
     "text": [
      "['time', 'after', 'the', 'time', 'the', 'clock', 'ticked']\n",
      "<class 'list'>\n",
      "<class 'str'>\n"
     ]
    }
   ],
   "source": [
    "#Remove duplicate values from the String\n",
    "\n",
    "sent=\"time , after the . time the clock ticked\"\n",
    "words=sent.split()\n",
    "lis=set([\"'\",\".\",\",\"])\n",
    "result=[]\n",
    "for ch in words:\n",
    "    if ch  not in lis:\n",
    "      result.append(ch)\n",
    "print(result) \n",
    "print(type(result))\n",
    "res=str(result) \n",
    "print(type(res))\n",
    "    \n",
    "        \n",
    "\n",
    "       \n",
    "\n",
    "\n"
   ]
  },
  {
   "cell_type": "code",
   "execution_count": null,
   "id": "cb5e9269",
   "metadata": {},
   "outputs": [
    {
     "name": "stdout",
     "output_type": "stream",
     "text": [
      "hai\n",
      "hai\n",
      "hai\n",
      "hai\n",
      "hai\n"
     ]
    }
   ],
   "source": [
    "a=5\n",
    "while a<=10:\n",
    "    if a==5:\n",
    "        a+=1   # increment\n",
    "        continue\n",
    "    else:\n",
    "        print(\"hai\")\n",
    "        a+=1"
   ]
  },
  {
   "cell_type": "code",
   "execution_count": 3,
   "id": "2360416d",
   "metadata": {},
   "outputs": [
    {
     "name": "stdout",
     "output_type": "stream",
     "text": [
      "hello world\n",
      "hello world\n",
      "hello world\n",
      "hello world\n"
     ]
    }
   ],
   "source": [
    "a=5\n",
    "while a<=8:\n",
    "    if a==3:\n",
    "        a+=1\n",
    "        continue\n",
    "    else:\n",
    "        print(\"hello world\")\n",
    "        a+=1\n",
    "        \n",
    "        "
   ]
  },
  {
   "cell_type": "code",
   "execution_count": 3,
   "id": "20cc1371",
   "metadata": {},
   "outputs": [
    {
     "name": "stdout",
     "output_type": "stream",
     "text": [
      "['learn', 'python', 'is', 'easy,', 'in', 'data', 'science.']\n"
     ]
    }
   ],
   "source": [
    "new_sent=\"learn python is easy, in data science.\"\n",
    "words=new_sent.split()\n",
    "print(words)\n",
    "\n"
   ]
  },
  {
   "cell_type": "code",
   "execution_count": 2,
   "id": "cc0726ff",
   "metadata": {},
   "outputs": [
    {
     "name": "stdout",
     "output_type": "stream",
     "text": [
      "sam\n",
      "mas\n",
      "\n",
      "anu\n",
      "una\n",
      "\n",
      "boss\n",
      "ssob\n",
      "s\n",
      "anju\n",
      "ujna\n",
      "u\n",
      "manasi\n",
      "isanam\n",
      "asi\n",
      "['sam', 'anu', 'boss', 'anju', 'manasi', 'raju']\n"
     ]
    }
   ],
   "source": [
    "names=[\"sam\",\"anu\",\"boss\",\"anju\",\"manasi\"]\n",
    "for i in names:\n",
    "    print(i)\n",
    "    print(i[::-1])\n",
    "    print(i[3:]) \n",
    "names.append(\"raju\")\n",
    "print(names)\n",
    "    \n"
   ]
  },
  {
   "cell_type": "code",
   "execution_count": 5,
   "id": "ff69febf",
   "metadata": {},
   "outputs": [
    {
     "name": "stdout",
     "output_type": "stream",
     "text": [
      "1\n",
      "2\n",
      "3\n",
      "4\n",
      "5\n",
      "6\n",
      "7\n",
      "8\n",
      "9\n",
      "10\n"
     ]
    }
   ],
   "source": [
    "# print numbers from 1 to 10\n",
    "for a in range(1,11):\n",
    "    print(a)"
   ]
  },
  {
   "cell_type": "code",
   "execution_count": 48,
   "id": "7da31aa3",
   "metadata": {},
   "outputs": [
    {
     "name": "stdout",
     "output_type": "stream",
     "text": [
      "p\n",
      "y\n",
      "t\n",
      "h\n",
      "o\n",
      "n\n"
     ]
    }
   ],
   "source": [
    "# print each character in the word \"python\"\n",
    "\n",
    "word=\"python\"\n",
    "for ch in word:\n",
    "    print(ch)\n",
    "\n"
   ]
  },
  {
   "cell_type": "code",
   "execution_count": 16,
   "id": "64fba373",
   "metadata": {},
   "outputs": [
    {
     "name": "stdout",
     "output_type": "stream",
     "text": [
      "apple\n",
      "banana\n",
      "cherry\n"
     ]
    }
   ],
   "source": [
    "# Print all elements in the list\n",
    "\n",
    "fruits=['apple','banana','cherry']\n",
    "for i in fruits:\n",
    "    print(i)\n"
   ]
  },
  {
   "cell_type": "code",
   "execution_count": 60,
   "id": "e84c0e17",
   "metadata": {},
   "outputs": [
    {
     "name": "stdout",
     "output_type": "stream",
     "text": [
      "square of 1 is 1\n",
      "square of 2 is 4\n",
      "square of 3 is 9\n",
      "square of 4 is 16\n",
      "square of 5 is 25\n"
     ]
    }
   ],
   "source": [
    "# print the square of numbers from 1 to 5\n",
    "\n",
    "for i in range(1,6):\n",
    "    sqr=i**2\n",
    "    print(f\"square of {i} is {sqr}\")\n",
    "    \n",
    "\n",
    "   \n",
    "\n",
    "\n"
   ]
  },
  {
   "cell_type": "code",
   "execution_count": null,
   "id": "960ab8c0",
   "metadata": {},
   "outputs": [
    {
     "name": "stdout",
     "output_type": "stream",
     "text": [
      "2\n",
      "4\n",
      "6\n",
      "8\n",
      "10\n",
      "12\n",
      "14\n",
      "16\n",
      "18\n",
      "20\n"
     ]
    }
   ],
   "source": [
    "# print all even numbers from 1 to 20\n",
    "\n",
    "for i in range(1,21):\n",
    "    if i%2==0:\n",
    "        print(i)\n",
    "\n",
    "\n",
    "\n",
    "    \n"
   ]
  },
  {
   "cell_type": "code",
   "execution_count": 2,
   "id": "4f439492",
   "metadata": {},
   "outputs": [
    {
     "name": "stdout",
     "output_type": "stream",
     "text": [
      "tac\n",
      "god\n",
      "tab\n"
     ]
    }
   ],
   "source": [
    "# Reverse of each word in a list\n",
    "\n",
    "rev=['cat','dog','bat']\n",
    "for ch in rev:\n",
    "    print(ch[::-1])\n"
   ]
  },
  {
   "cell_type": "code",
   "execution_count": 51,
   "id": "09cdba01",
   "metadata": {},
   "outputs": [
    {
     "name": "stdout",
     "output_type": "stream",
     "text": [
      "10\n",
      "9\n",
      "8\n",
      "7\n",
      "6\n",
      "5\n",
      "4\n",
      "3\n",
      "2\n",
      "1\n"
     ]
    }
   ],
   "source": [
    "# print numbers from 10 to 1 in reverse\n",
    "\n",
    "rev1=[1,2,3,4,5,6,7,8,9,10]\n",
    "rev1.sort(reverse=True)\n",
    "for i in rev1:\n",
    "    print(i)\n"
   ]
  },
  {
   "cell_type": "code",
   "execution_count": 64,
   "id": "7965236b",
   "metadata": {},
   "outputs": [
    {
     "name": "stdout",
     "output_type": "stream",
     "text": [
      "vowels: 3\n"
     ]
    }
   ],
   "source": [
    "# count how many vowels are in the word \"elephant\"\n",
    "\n",
    "vowels=\"elephant\"\n",
    "count=0\n",
    "for i in vowels:\n",
    "    if i in \"aeiou\":\n",
    "        count+=1\n",
    "print(\"vowels:\",count)\n",
    "    \n",
    "    \n",
    "\n",
    "    \n",
    "    "
   ]
  },
  {
   "cell_type": "code",
   "execution_count": 67,
   "id": "a086e72e",
   "metadata": {},
   "outputs": [
    {
     "name": "stdout",
     "output_type": "stream",
     "text": [
      "2\n",
      "5\n",
      "5\n"
     ]
    }
   ],
   "source": [
    "# print the length of each word in the list\n",
    "\n",
    "li=[\"hi\",\"hello\",\"world\"]\n",
    "for i in li:\n",
    " print(len(i))"
   ]
  },
  {
   "cell_type": "code",
   "execution_count": 70,
   "id": "f7ff31be",
   "metadata": {},
   "outputs": [
    {
     "name": "stdout",
     "output_type": "stream",
     "text": [
      "apple\n",
      "avocado\n"
     ]
    }
   ],
   "source": [
    "# print only words that start with letter \"a\" from the list\n",
    "\n",
    "fruits=[\"apple\",\"banana\",\"avocado\",\"mango\"]\n",
    "for i in fruits:\n",
    "    if i.startswith(\"a\"):\n",
    "        print(i)\n",
    "    "
   ]
  }
 ],
 "metadata": {
  "kernelspec": {
   "display_name": "Python 3",
   "language": "python",
   "name": "python3"
  },
  "language_info": {
   "codemirror_mode": {
    "name": "ipython",
    "version": 3
   },
   "file_extension": ".py",
   "mimetype": "text/x-python",
   "name": "python",
   "nbconvert_exporter": "python",
   "pygments_lexer": "ipython3",
   "version": "3.13.5"
  }
 },
 "nbformat": 4,
 "nbformat_minor": 5
}
